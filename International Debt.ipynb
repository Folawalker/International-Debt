{
 "cells": [
  {
   "cell_type": "code",
   "execution_count": null,
   "id": "b66ae894-15e2-491a-929e-1a41a91e3bf4",
   "metadata": {},
   "outputs": [],
   "source": [
    "from csv import reader\n",
    "import pandas as pd\n",
    "import matplotlib.pyplot as plt\n",
    "import numpy as np\n",
    "import seaborn as sns\n",
    "import plotly.express as px\n",
    "import country_converter as coco\n",
    "!pip install pandoc"
   ]
  },
  {
   "cell_type": "code",
   "execution_count": 315,
   "id": "a926cf61-18ec-4817-9d57-5c3179d551cb",
   "metadata": {},
   "outputs": [],
   "source": [
    "debt = pd.read_csv('international_debt.csv')"
   ]
  },
  {
   "cell_type": "code",
   "execution_count": 316,
   "id": "4d456d89-59b5-4395-9b9e-92e66e536560",
   "metadata": {},
   "outputs": [
    {
     "data": {
      "text/html": [
       "<div>\n",
       "<style scoped>\n",
       "    .dataframe tbody tr th:only-of-type {\n",
       "        vertical-align: middle;\n",
       "    }\n",
       "\n",
       "    .dataframe tbody tr th {\n",
       "        vertical-align: top;\n",
       "    }\n",
       "\n",
       "    .dataframe thead th {\n",
       "        text-align: right;\n",
       "    }\n",
       "</style>\n",
       "<table border=\"1\" class=\"dataframe\">\n",
       "  <thead>\n",
       "    <tr style=\"text-align: right;\">\n",
       "      <th></th>\n",
       "      <th>Country</th>\n",
       "      <th>Country_code</th>\n",
       "      <th>Indicator_name</th>\n",
       "      <th>Indicator_code</th>\n",
       "      <th>Debt</th>\n",
       "    </tr>\n",
       "  </thead>\n",
       "  <tbody>\n",
       "    <tr>\n",
       "      <th>0</th>\n",
       "      <td>Afghanistan</td>\n",
       "      <td>AFG</td>\n",
       "      <td>Disbursements on external debt, long-term (DIS...</td>\n",
       "      <td>DT.DIS.DLXF.CD</td>\n",
       "      <td>72894453.7</td>\n",
       "    </tr>\n",
       "    <tr>\n",
       "      <th>1</th>\n",
       "      <td>Afghanistan</td>\n",
       "      <td>AFG</td>\n",
       "      <td>Interest payments on external debt, long-term ...</td>\n",
       "      <td>DT.INT.DLXF.CD</td>\n",
       "      <td>53239440.1</td>\n",
       "    </tr>\n",
       "    <tr>\n",
       "      <th>2</th>\n",
       "      <td>Afghanistan</td>\n",
       "      <td>AFG</td>\n",
       "      <td>PPG, bilateral (AMT, current US$)</td>\n",
       "      <td>DT.AMT.BLAT.CD</td>\n",
       "      <td>61739336.9</td>\n",
       "    </tr>\n",
       "    <tr>\n",
       "      <th>3</th>\n",
       "      <td>Afghanistan</td>\n",
       "      <td>AFG</td>\n",
       "      <td>PPG, bilateral (DIS, current US$)</td>\n",
       "      <td>DT.DIS.BLAT.CD</td>\n",
       "      <td>49114729.4</td>\n",
       "    </tr>\n",
       "    <tr>\n",
       "      <th>4</th>\n",
       "      <td>Afghanistan</td>\n",
       "      <td>AFG</td>\n",
       "      <td>PPG, bilateral (INT, current US$)</td>\n",
       "      <td>DT.INT.BLAT.CD</td>\n",
       "      <td>39903620.1</td>\n",
       "    </tr>\n",
       "  </tbody>\n",
       "</table>\n",
       "</div>"
      ],
      "text/plain": [
       "       Country Country_code  \\\n",
       "0  Afghanistan          AFG   \n",
       "1  Afghanistan          AFG   \n",
       "2  Afghanistan          AFG   \n",
       "3  Afghanistan          AFG   \n",
       "4  Afghanistan          AFG   \n",
       "\n",
       "                                      Indicator_name  Indicator_code  \\\n",
       "0  Disbursements on external debt, long-term (DIS...  DT.DIS.DLXF.CD   \n",
       "1  Interest payments on external debt, long-term ...  DT.INT.DLXF.CD   \n",
       "2                  PPG, bilateral (AMT, current US$)  DT.AMT.BLAT.CD   \n",
       "3                  PPG, bilateral (DIS, current US$)  DT.DIS.BLAT.CD   \n",
       "4                  PPG, bilateral (INT, current US$)  DT.INT.BLAT.CD   \n",
       "\n",
       "         Debt  \n",
       "0  72894453.7  \n",
       "1  53239440.1  \n",
       "2  61739336.9  \n",
       "3  49114729.4  \n",
       "4  39903620.1  "
      ]
     },
     "execution_count": 316,
     "metadata": {},
     "output_type": "execute_result"
    }
   ],
   "source": [
    "debt.head(5)"
   ]
  },
  {
   "cell_type": "code",
   "execution_count": 317,
   "id": "b3c10a58-5a67-4976-a543-76f088cf8459",
   "metadata": {},
   "outputs": [],
   "source": [
    "custom_map = {\n",
    "    'South Asia': 'Asia',\n",
    "    'IDA only': 'Unspecified',\n",
    "    'IDA': 'Unspecified',\n",
    "    'DRC': 'Africa',\n",
    "    'Least developed countries: UN classification': 'Unspecified'\n",
    "}\n",
    "\n",
    "# Manually define which countries are in South America\n",
    "south_america_countries = {\n",
    "    'Argentina', 'Bolivia', 'Brazil', 'Chile', 'Colombia', 'Ecuador',\n",
    "    'Guyana', 'Paraguay', 'Peru', 'Suriname', 'Uruguay', 'Venezuela'\n",
    "}\n",
    "\n",
    "# Function to get continent\n",
    "def get_continent(country):\n",
    "    if country in custom_map:\n",
    "        return custom_map[country]\n",
    "    try:\n",
    "        continent = coco.convert(names=country, to='continent')\n",
    "        if continent == 'America':\n",
    "            if country in south_america_countries:\n",
    "                return 'South America'\n",
    "            else:\n",
    "                return 'North America'\n",
    "        return continent\n",
    "    except:\n",
    "        return 'Unspecified'\n",
    "\n",
    "# Apply function to dataframe\n",
    "debt['Continent'] = debt['Country'].apply(get_continent)"
   ]
  },
  {
   "cell_type": "code",
   "execution_count": 318,
   "id": "1eee9e5e-e712-49f7-b081-c4d198400b12",
   "metadata": {},
   "outputs": [
    {
     "data": {
      "text/html": [
       "<div>\n",
       "<style scoped>\n",
       "    .dataframe tbody tr th:only-of-type {\n",
       "        vertical-align: middle;\n",
       "    }\n",
       "\n",
       "    .dataframe tbody tr th {\n",
       "        vertical-align: top;\n",
       "    }\n",
       "\n",
       "    .dataframe thead th {\n",
       "        text-align: right;\n",
       "    }\n",
       "</style>\n",
       "<table border=\"1\" class=\"dataframe\">\n",
       "  <thead>\n",
       "    <tr style=\"text-align: right;\">\n",
       "      <th></th>\n",
       "      <th>Country</th>\n",
       "      <th>Country_code</th>\n",
       "      <th>Indicator_name</th>\n",
       "      <th>Indicator_code</th>\n",
       "      <th>Debt</th>\n",
       "      <th>Continent</th>\n",
       "    </tr>\n",
       "  </thead>\n",
       "  <tbody>\n",
       "    <tr>\n",
       "      <th>0</th>\n",
       "      <td>Afghanistan</td>\n",
       "      <td>AFG</td>\n",
       "      <td>Disbursements on external debt, long-term (DIS...</td>\n",
       "      <td>DT.DIS.DLXF.CD</td>\n",
       "      <td>72894453.7</td>\n",
       "      <td>Asia</td>\n",
       "    </tr>\n",
       "    <tr>\n",
       "      <th>1</th>\n",
       "      <td>Afghanistan</td>\n",
       "      <td>AFG</td>\n",
       "      <td>Interest payments on external debt, long-term ...</td>\n",
       "      <td>DT.INT.DLXF.CD</td>\n",
       "      <td>53239440.1</td>\n",
       "      <td>Asia</td>\n",
       "    </tr>\n",
       "    <tr>\n",
       "      <th>2</th>\n",
       "      <td>Afghanistan</td>\n",
       "      <td>AFG</td>\n",
       "      <td>PPG, bilateral (AMT, current US$)</td>\n",
       "      <td>DT.AMT.BLAT.CD</td>\n",
       "      <td>61739336.9</td>\n",
       "      <td>Asia</td>\n",
       "    </tr>\n",
       "    <tr>\n",
       "      <th>3</th>\n",
       "      <td>Afghanistan</td>\n",
       "      <td>AFG</td>\n",
       "      <td>PPG, bilateral (DIS, current US$)</td>\n",
       "      <td>DT.DIS.BLAT.CD</td>\n",
       "      <td>49114729.4</td>\n",
       "      <td>Asia</td>\n",
       "    </tr>\n",
       "    <tr>\n",
       "      <th>4</th>\n",
       "      <td>Afghanistan</td>\n",
       "      <td>AFG</td>\n",
       "      <td>PPG, bilateral (INT, current US$)</td>\n",
       "      <td>DT.INT.BLAT.CD</td>\n",
       "      <td>39903620.1</td>\n",
       "      <td>Asia</td>\n",
       "    </tr>\n",
       "    <tr>\n",
       "      <th>5</th>\n",
       "      <td>Afghanistan</td>\n",
       "      <td>AFG</td>\n",
       "      <td>PPG, multilateral (AMT, current US$)</td>\n",
       "      <td>DT.AMT.MLAT.CD</td>\n",
       "      <td>39107845.0</td>\n",
       "      <td>Asia</td>\n",
       "    </tr>\n",
       "    <tr>\n",
       "      <th>6</th>\n",
       "      <td>Afghanistan</td>\n",
       "      <td>AFG</td>\n",
       "      <td>PPG, multilateral (DIS, current US$)</td>\n",
       "      <td>DT.DIS.MLAT.CD</td>\n",
       "      <td>23779724.3</td>\n",
       "      <td>Asia</td>\n",
       "    </tr>\n",
       "    <tr>\n",
       "      <th>7</th>\n",
       "      <td>Afghanistan</td>\n",
       "      <td>AFG</td>\n",
       "      <td>PPG, multilateral (INT, current US$)</td>\n",
       "      <td>DT.INT.MLAT.CD</td>\n",
       "      <td>13335820.0</td>\n",
       "      <td>Asia</td>\n",
       "    </tr>\n",
       "    <tr>\n",
       "      <th>8</th>\n",
       "      <td>Afghanistan</td>\n",
       "      <td>AFG</td>\n",
       "      <td>PPG, official creditors (AMT, current US$)</td>\n",
       "      <td>DT.AMT.OFFT.CD</td>\n",
       "      <td>100847181.9</td>\n",
       "      <td>Asia</td>\n",
       "    </tr>\n",
       "    <tr>\n",
       "      <th>9</th>\n",
       "      <td>Afghanistan</td>\n",
       "      <td>AFG</td>\n",
       "      <td>PPG, official creditors (DIS, current US$)</td>\n",
       "      <td>DT.DIS.OFFT.CD</td>\n",
       "      <td>72894453.7</td>\n",
       "      <td>Asia</td>\n",
       "    </tr>\n",
       "  </tbody>\n",
       "</table>\n",
       "</div>"
      ],
      "text/plain": [
       "       Country Country_code  \\\n",
       "0  Afghanistan          AFG   \n",
       "1  Afghanistan          AFG   \n",
       "2  Afghanistan          AFG   \n",
       "3  Afghanistan          AFG   \n",
       "4  Afghanistan          AFG   \n",
       "5  Afghanistan          AFG   \n",
       "6  Afghanistan          AFG   \n",
       "7  Afghanistan          AFG   \n",
       "8  Afghanistan          AFG   \n",
       "9  Afghanistan          AFG   \n",
       "\n",
       "                                      Indicator_name  Indicator_code  \\\n",
       "0  Disbursements on external debt, long-term (DIS...  DT.DIS.DLXF.CD   \n",
       "1  Interest payments on external debt, long-term ...  DT.INT.DLXF.CD   \n",
       "2                  PPG, bilateral (AMT, current US$)  DT.AMT.BLAT.CD   \n",
       "3                  PPG, bilateral (DIS, current US$)  DT.DIS.BLAT.CD   \n",
       "4                  PPG, bilateral (INT, current US$)  DT.INT.BLAT.CD   \n",
       "5               PPG, multilateral (AMT, current US$)  DT.AMT.MLAT.CD   \n",
       "6               PPG, multilateral (DIS, current US$)  DT.DIS.MLAT.CD   \n",
       "7               PPG, multilateral (INT, current US$)  DT.INT.MLAT.CD   \n",
       "8         PPG, official creditors (AMT, current US$)  DT.AMT.OFFT.CD   \n",
       "9         PPG, official creditors (DIS, current US$)  DT.DIS.OFFT.CD   \n",
       "\n",
       "          Debt Continent  \n",
       "0   72894453.7      Asia  \n",
       "1   53239440.1      Asia  \n",
       "2   61739336.9      Asia  \n",
       "3   49114729.4      Asia  \n",
       "4   39903620.1      Asia  \n",
       "5   39107845.0      Asia  \n",
       "6   23779724.3      Asia  \n",
       "7   13335820.0      Asia  \n",
       "8  100847181.9      Asia  \n",
       "9   72894453.7      Asia  "
      ]
     },
     "execution_count": 318,
     "metadata": {},
     "output_type": "execute_result"
    }
   ],
   "source": [
    "debt.head(10)"
   ]
  },
  {
   "cell_type": "code",
   "execution_count": 319,
   "id": "346c4785-6340-410c-a66d-ea0f837504b9",
   "metadata": {},
   "outputs": [
    {
     "name": "stdout",
     "output_type": "stream",
     "text": [
      "<class 'pandas.core.frame.DataFrame'>\n",
      "RangeIndex: 2357 entries, 0 to 2356\n",
      "Data columns (total 6 columns):\n",
      " #   Column          Non-Null Count  Dtype  \n",
      "---  ------          --------------  -----  \n",
      " 0   Country         2357 non-null   object \n",
      " 1   Country_code    2357 non-null   object \n",
      " 2   Indicator_name  2357 non-null   object \n",
      " 3   Indicator_code  2357 non-null   object \n",
      " 4   Debt            2357 non-null   float64\n",
      " 5   Continent       2357 non-null   object \n",
      "dtypes: float64(1), object(5)\n",
      "memory usage: 110.6+ KB\n"
     ]
    }
   ],
   "source": [
    "debt.info()"
   ]
  },
  {
   "cell_type": "code",
   "execution_count": 320,
   "id": "621bbb57-dad9-4e00-a55c-f6e8d3213eff",
   "metadata": {},
   "outputs": [
    {
     "data": {
      "text/html": [
       "<div>\n",
       "<style scoped>\n",
       "    .dataframe tbody tr th:only-of-type {\n",
       "        vertical-align: middle;\n",
       "    }\n",
       "\n",
       "    .dataframe tbody tr th {\n",
       "        vertical-align: top;\n",
       "    }\n",
       "\n",
       "    .dataframe thead th {\n",
       "        text-align: right;\n",
       "    }\n",
       "</style>\n",
       "<table border=\"1\" class=\"dataframe\">\n",
       "  <thead>\n",
       "    <tr style=\"text-align: right;\">\n",
       "      <th></th>\n",
       "      <th>Debt</th>\n",
       "    </tr>\n",
       "  </thead>\n",
       "  <tbody>\n",
       "    <tr>\n",
       "      <th>count</th>\n",
       "      <td>2.357000e+03</td>\n",
       "    </tr>\n",
       "    <tr>\n",
       "      <th>mean</th>\n",
       "      <td>1.306633e+09</td>\n",
       "    </tr>\n",
       "    <tr>\n",
       "      <th>std</th>\n",
       "      <td>5.226771e+09</td>\n",
       "    </tr>\n",
       "    <tr>\n",
       "      <th>min</th>\n",
       "      <td>0.000000e+00</td>\n",
       "    </tr>\n",
       "    <tr>\n",
       "      <th>25%</th>\n",
       "      <td>1.548248e+07</td>\n",
       "    </tr>\n",
       "    <tr>\n",
       "      <th>50%</th>\n",
       "      <td>1.073140e+08</td>\n",
       "    </tr>\n",
       "    <tr>\n",
       "      <th>75%</th>\n",
       "      <td>5.716575e+08</td>\n",
       "    </tr>\n",
       "    <tr>\n",
       "      <th>max</th>\n",
       "      <td>9.621862e+10</td>\n",
       "    </tr>\n",
       "  </tbody>\n",
       "</table>\n",
       "</div>"
      ],
      "text/plain": [
       "               Debt\n",
       "count  2.357000e+03\n",
       "mean   1.306633e+09\n",
       "std    5.226771e+09\n",
       "min    0.000000e+00\n",
       "25%    1.548248e+07\n",
       "50%    1.073140e+08\n",
       "75%    5.716575e+08\n",
       "max    9.621862e+10"
      ]
     },
     "execution_count": 320,
     "metadata": {},
     "output_type": "execute_result"
    }
   ],
   "source": [
    "debt.describe()"
   ]
  },
  {
   "cell_type": "code",
   "execution_count": 321,
   "id": "4beec599-2587-4273-b71e-3ce5f5e1e5c8",
   "metadata": {},
   "outputs": [
    {
     "data": {
      "text/plain": [
       "0       False\n",
       "1       False\n",
       "2       False\n",
       "3       False\n",
       "4       False\n",
       "        ...  \n",
       "2352    False\n",
       "2353    False\n",
       "2354    False\n",
       "2355    False\n",
       "2356    False\n",
       "Length: 2357, dtype: bool"
      ]
     },
     "execution_count": 321,
     "metadata": {},
     "output_type": "execute_result"
    }
   ],
   "source": [
    "debt.duplicated()"
   ]
  },
  {
   "cell_type": "markdown",
   "id": "4ea32e98-c3df-42e9-bc90-28107bb0285d",
   "metadata": {},
   "source": [
    "# Debt Burden by Country"
   ]
  },
  {
   "cell_type": "code",
   "execution_count": 720,
   "id": "896c9945-70ac-42b4-aa1e-7479830f53bc",
   "metadata": {},
   "outputs": [
    {
     "data": {
      "text/html": [
       "<div>\n",
       "<style scoped>\n",
       "    .dataframe tbody tr th:only-of-type {\n",
       "        vertical-align: middle;\n",
       "    }\n",
       "\n",
       "    .dataframe tbody tr th {\n",
       "        vertical-align: top;\n",
       "    }\n",
       "\n",
       "    .dataframe thead th {\n",
       "        text-align: right;\n",
       "    }\n",
       "</style>\n",
       "<table border=\"1\" class=\"dataframe\">\n",
       "  <thead>\n",
       "    <tr style=\"text-align: right;\">\n",
       "      <th></th>\n",
       "      <th>Country</th>\n",
       "      <th>Continent</th>\n",
       "      <th>Debt</th>\n",
       "    </tr>\n",
       "  </thead>\n",
       "  <tbody>\n",
       "    <tr>\n",
       "      <th>0</th>\n",
       "      <td>China</td>\n",
       "      <td>Asia</td>\n",
       "      <td>2.857935e+11</td>\n",
       "    </tr>\n",
       "    <tr>\n",
       "      <th>1</th>\n",
       "      <td>Brazil</td>\n",
       "      <td>South America</td>\n",
       "      <td>2.806240e+11</td>\n",
       "    </tr>\n",
       "    <tr>\n",
       "      <th>2</th>\n",
       "      <td>South Asia</td>\n",
       "      <td>Asia</td>\n",
       "      <td>2.476087e+11</td>\n",
       "    </tr>\n",
       "    <tr>\n",
       "      <th>3</th>\n",
       "      <td>Least developed countries: UN classification</td>\n",
       "      <td>Unspecified</td>\n",
       "      <td>2.128810e+11</td>\n",
       "    </tr>\n",
       "    <tr>\n",
       "      <th>4</th>\n",
       "      <td>Russian Federation</td>\n",
       "      <td>Europe</td>\n",
       "      <td>1.912891e+11</td>\n",
       "    </tr>\n",
       "  </tbody>\n",
       "</table>\n",
       "</div>"
      ],
      "text/plain": [
       "                                        Country      Continent          Debt\n",
       "0                                         China           Asia  2.857935e+11\n",
       "1                                        Brazil  South America  2.806240e+11\n",
       "2                                    South Asia           Asia  2.476087e+11\n",
       "3  Least developed countries: UN classification    Unspecified  2.128810e+11\n",
       "4                            Russian Federation         Europe  1.912891e+11"
      ]
     },
     "execution_count": 720,
     "metadata": {},
     "output_type": "execute_result"
    }
   ],
   "source": [
    "debtors = round(debt.groupby(['Country','Continent'])['Debt'].sum().sort_values(ascending=False),2).reset_index(name='Debt')\n",
    "\n",
    "debtors.head(5)"
   ]
  },
  {
   "cell_type": "markdown",
   "id": "94105936-91be-4fd1-8e1c-f1a82d986f12",
   "metadata": {},
   "source": [
    "`China` tops the world debtors list with `$285 billion`, closely followed by `Brazil` with `280 billion`"
   ]
  },
  {
   "cell_type": "code",
   "execution_count": 325,
   "id": "ce758d19-a90c-4da6-85f6-1760b21edddf",
   "metadata": {},
   "outputs": [
    {
     "data": {
      "text/html": [
       "<div>\n",
       "<style scoped>\n",
       "    .dataframe tbody tr th:only-of-type {\n",
       "        vertical-align: middle;\n",
       "    }\n",
       "\n",
       "    .dataframe tbody tr th {\n",
       "        vertical-align: top;\n",
       "    }\n",
       "\n",
       "    .dataframe thead th {\n",
       "        text-align: right;\n",
       "    }\n",
       "</style>\n",
       "<table border=\"1\" class=\"dataframe\">\n",
       "  <thead>\n",
       "    <tr style=\"text-align: right;\">\n",
       "      <th></th>\n",
       "      <th>Country</th>\n",
       "      <th>Continent</th>\n",
       "      <th>Debt</th>\n",
       "    </tr>\n",
       "  </thead>\n",
       "  <tbody>\n",
       "    <tr>\n",
       "      <th>0</th>\n",
       "      <td>Sao Tome and Principe</td>\n",
       "      <td>Africa</td>\n",
       "      <td>44798032.5</td>\n",
       "    </tr>\n",
       "    <tr>\n",
       "      <th>1</th>\n",
       "      <td>Tonga</td>\n",
       "      <td>Oceania</td>\n",
       "      <td>55209304.8</td>\n",
       "    </tr>\n",
       "    <tr>\n",
       "      <th>2</th>\n",
       "      <td>Comoros</td>\n",
       "      <td>Africa</td>\n",
       "      <td>57568483.2</td>\n",
       "    </tr>\n",
       "    <tr>\n",
       "      <th>3</th>\n",
       "      <td>Timor-Leste</td>\n",
       "      <td>Asia</td>\n",
       "      <td>71000959.2</td>\n",
       "    </tr>\n",
       "    <tr>\n",
       "      <th>4</th>\n",
       "      <td>Turkmenistan</td>\n",
       "      <td>Asia</td>\n",
       "      <td>95135629.3</td>\n",
       "    </tr>\n",
       "    <tr>\n",
       "      <th>5</th>\n",
       "      <td>Solomon Islands</td>\n",
       "      <td>Oceania</td>\n",
       "      <td>105104467.3</td>\n",
       "    </tr>\n",
       "    <tr>\n",
       "      <th>6</th>\n",
       "      <td>Samoa</td>\n",
       "      <td>Oceania</td>\n",
       "      <td>112946425.5</td>\n",
       "    </tr>\n",
       "    <tr>\n",
       "      <th>7</th>\n",
       "      <td>Somalia</td>\n",
       "      <td>Africa</td>\n",
       "      <td>119614074.9</td>\n",
       "    </tr>\n",
       "    <tr>\n",
       "      <th>8</th>\n",
       "      <td>Eritrea</td>\n",
       "      <td>Africa</td>\n",
       "      <td>132493809.3</td>\n",
       "    </tr>\n",
       "    <tr>\n",
       "      <th>9</th>\n",
       "      <td>Dominica</td>\n",
       "      <td>North America</td>\n",
       "      <td>138044299.8</td>\n",
       "    </tr>\n",
       "  </tbody>\n",
       "</table>\n",
       "</div>"
      ],
      "text/plain": [
       "                 Country      Continent         Debt\n",
       "0  Sao Tome and Principe         Africa   44798032.5\n",
       "1                  Tonga        Oceania   55209304.8\n",
       "2                Comoros         Africa   57568483.2\n",
       "3            Timor-Leste           Asia   71000959.2\n",
       "4           Turkmenistan           Asia   95135629.3\n",
       "5        Solomon Islands        Oceania  105104467.3\n",
       "6                  Samoa        Oceania  112946425.5\n",
       "7                Somalia         Africa  119614074.9\n",
       "8                Eritrea         Africa  132493809.3\n",
       "9               Dominica  North America  138044299.8"
      ]
     },
     "execution_count": 325,
     "metadata": {},
     "output_type": "execute_result"
    }
   ],
   "source": [
    "debtors = round(debt.groupby(['Country','Continent'])['Debt'].sum().sort_values(ascending=True),2).reset_index(name='Debt')\n",
    "\n",
    "debtors.head(10)"
   ]
  },
  {
   "cell_type": "markdown",
   "id": "10298f2d-80d1-4443-a775-3b70e7b3d17f",
   "metadata": {},
   "source": [
    "`Sao Tome and Principe` has the lowest debt with just `$44 million` in debt"
   ]
  },
  {
   "cell_type": "markdown",
   "id": "7126a13a-f068-462e-86ba-471898d16fe4",
   "metadata": {},
   "source": [
    "# Debt Burden by Continent"
   ]
  },
  {
   "cell_type": "code",
   "execution_count": 328,
   "id": "0a687561-0e95-425c-85cf-606d8e17cbcd",
   "metadata": {},
   "outputs": [
    {
     "data": {
      "text/html": [
       "<div>\n",
       "<style scoped>\n",
       "    .dataframe tbody tr th:only-of-type {\n",
       "        vertical-align: middle;\n",
       "    }\n",
       "\n",
       "    .dataframe tbody tr th {\n",
       "        vertical-align: top;\n",
       "    }\n",
       "\n",
       "    .dataframe thead th {\n",
       "        text-align: right;\n",
       "    }\n",
       "</style>\n",
       "<table border=\"1\" class=\"dataframe\">\n",
       "  <thead>\n",
       "    <tr style=\"text-align: right;\">\n",
       "      <th></th>\n",
       "      <th>Continent</th>\n",
       "      <th>Debt</th>\n",
       "    </tr>\n",
       "  </thead>\n",
       "  <tbody>\n",
       "    <tr>\n",
       "      <th>0</th>\n",
       "      <td>Asia</td>\n",
       "      <td>1.318452e+12</td>\n",
       "    </tr>\n",
       "    <tr>\n",
       "      <th>1</th>\n",
       "      <td>Africa</td>\n",
       "      <td>4.395045e+11</td>\n",
       "    </tr>\n",
       "    <tr>\n",
       "      <th>2</th>\n",
       "      <td>South America</td>\n",
       "      <td>4.179970e+11</td>\n",
       "    </tr>\n",
       "    <tr>\n",
       "      <th>3</th>\n",
       "      <td>Unspecified</td>\n",
       "      <td>3.919291e+11</td>\n",
       "    </tr>\n",
       "    <tr>\n",
       "      <th>4</th>\n",
       "      <td>Europe</td>\n",
       "      <td>3.276597e+11</td>\n",
       "    </tr>\n",
       "    <tr>\n",
       "      <th>5</th>\n",
       "      <td>North America</td>\n",
       "      <td>1.745402e+11</td>\n",
       "    </tr>\n",
       "    <tr>\n",
       "      <th>6</th>\n",
       "      <td>Oceania</td>\n",
       "      <td>9.651777e+09</td>\n",
       "    </tr>\n",
       "  </tbody>\n",
       "</table>\n",
       "</div>"
      ],
      "text/plain": [
       "       Continent          Debt\n",
       "0           Asia  1.318452e+12\n",
       "1         Africa  4.395045e+11\n",
       "2  South America  4.179970e+11\n",
       "3    Unspecified  3.919291e+11\n",
       "4         Europe  3.276597e+11\n",
       "5  North America  1.745402e+11\n",
       "6        Oceania  9.651777e+09"
      ]
     },
     "execution_count": 328,
     "metadata": {},
     "output_type": "execute_result"
    }
   ],
   "source": [
    "debtors = round(debt.groupby(['Continent'])['Debt'].sum().sort_values(ascending=False),2).reset_index(name='Debt')\n",
    "\n",
    "debtors.head(10)"
   ]
  },
  {
   "cell_type": "markdown",
   "id": "481653fe-744c-438d-b907-dbf8aa2039a4",
   "metadata": {},
   "source": [
    "Asian countries appear to owe the most money with a total of `$1.3 trillion` in debt"
   ]
  },
  {
   "cell_type": "markdown",
   "id": "3d94a571-ff7d-446b-80a7-2ed3c86a608f",
   "metadata": {},
   "source": [
    "# Average Debt Owed by Continent"
   ]
  },
  {
   "cell_type": "code",
   "execution_count": 331,
   "id": "577c034e-c473-4f45-bc9b-41fc8d3f7f94",
   "metadata": {},
   "outputs": [
    {
     "data": {
      "text/html": [
       "<div>\n",
       "<style scoped>\n",
       "    .dataframe tbody tr th:only-of-type {\n",
       "        vertical-align: middle;\n",
       "    }\n",
       "\n",
       "    .dataframe tbody tr th {\n",
       "        vertical-align: top;\n",
       "    }\n",
       "\n",
       "    .dataframe thead th {\n",
       "        text-align: right;\n",
       "    }\n",
       "</style>\n",
       "<table border=\"1\" class=\"dataframe\">\n",
       "  <thead>\n",
       "    <tr style=\"text-align: right;\">\n",
       "      <th></th>\n",
       "      <th>Continent</th>\n",
       "      <th>Debt</th>\n",
       "    </tr>\n",
       "  </thead>\n",
       "  <tbody>\n",
       "    <tr>\n",
       "      <th>6</th>\n",
       "      <td>Unspecified</td>\n",
       "      <td>7.838582e+09</td>\n",
       "    </tr>\n",
       "    <tr>\n",
       "      <th>5</th>\n",
       "      <td>South America</td>\n",
       "      <td>2.402281e+09</td>\n",
       "    </tr>\n",
       "    <tr>\n",
       "      <th>1</th>\n",
       "      <td>Asia</td>\n",
       "      <td>2.079578e+09</td>\n",
       "    </tr>\n",
       "    <tr>\n",
       "      <th>2</th>\n",
       "      <td>Europe</td>\n",
       "      <td>1.274940e+09</td>\n",
       "    </tr>\n",
       "    <tr>\n",
       "      <th>3</th>\n",
       "      <td>North America</td>\n",
       "      <td>6.060425e+08</td>\n",
       "    </tr>\n",
       "    <tr>\n",
       "      <th>0</th>\n",
       "      <td>Africa</td>\n",
       "      <td>5.086858e+08</td>\n",
       "    </tr>\n",
       "    <tr>\n",
       "      <th>4</th>\n",
       "      <td>Oceania</td>\n",
       "      <td>1.072420e+08</td>\n",
       "    </tr>\n",
       "  </tbody>\n",
       "</table>\n",
       "</div>"
      ],
      "text/plain": [
       "       Continent          Debt\n",
       "6    Unspecified  7.838582e+09\n",
       "5  South America  2.402281e+09\n",
       "1           Asia  2.079578e+09\n",
       "2         Europe  1.274940e+09\n",
       "3  North America  6.060425e+08\n",
       "0         Africa  5.086858e+08\n",
       "4        Oceania  1.072420e+08"
      ]
     },
     "execution_count": 331,
     "metadata": {},
     "output_type": "execute_result"
    }
   ],
   "source": [
    "avg_debt_by_cont = (debt.groupby(['Continent'])['Debt'].mean().reset_index().sort_values(by='Debt', ascending=False))\n",
    "avg_debt_by_cont.head(25)"
   ]
  },
  {
   "cell_type": "markdown",
   "id": "507dbf62-ceb7-4340-9665-29051556a600",
   "metadata": {},
   "source": [
    "`International Development Associations` owe the most amount on average when compared to other continents with `783 million`. It is also important to note that the countries under this class could actually belong to any continent. Excluding them from this analysis, `South American` countries owe the most money on average with `240 million`. Although `Africa` appears second on the list of total amount owed, they rank pretty low in average meaning the total amount raked is due to the fact that `Africa` has a lot of coutries when compared to the `Americas`."
   ]
  },
  {
   "cell_type": "markdown",
   "id": "c71d07e3-11b6-4c17-9d27-528c3e45bc58",
   "metadata": {},
   "source": [
    "# Going into the Debt Purpose of Countries of Interest"
   ]
  },
  {
   "cell_type": "markdown",
   "id": "a6d29592-69b6-4eb6-898f-9e2922f09f2d",
   "metadata": {},
   "source": [
    "## Biggest Debtor - China"
   ]
  },
  {
   "cell_type": "code",
   "execution_count": 464,
   "id": "cf28331d-ded2-4fa0-8660-c3012528cead",
   "metadata": {},
   "outputs": [
    {
     "data": {
      "text/html": [
       "<div>\n",
       "<style scoped>\n",
       "    .dataframe tbody tr th:only-of-type {\n",
       "        vertical-align: middle;\n",
       "    }\n",
       "\n",
       "    .dataframe tbody tr th {\n",
       "        vertical-align: top;\n",
       "    }\n",
       "\n",
       "    .dataframe thead th {\n",
       "        text-align: right;\n",
       "    }\n",
       "</style>\n",
       "<table border=\"1\" class=\"dataframe\">\n",
       "  <thead>\n",
       "    <tr style=\"text-align: right;\">\n",
       "      <th></th>\n",
       "      <th>Indicator_code</th>\n",
       "      <th>Indicator_name</th>\n",
       "      <th>Debt</th>\n",
       "    </tr>\n",
       "  </thead>\n",
       "  <tbody>\n",
       "    <tr>\n",
       "      <th>1</th>\n",
       "      <td>DT.AMT.DLXF.CD</td>\n",
       "      <td>Principal repayments on external debt, long-te...</td>\n",
       "      <td>9.621862e+10</td>\n",
       "    </tr>\n",
       "    <tr>\n",
       "      <th>2</th>\n",
       "      <td>DT.AMT.DPNG.CD</td>\n",
       "      <td>Principal repayments on external debt, private...</td>\n",
       "      <td>7.239299e+10</td>\n",
       "    </tr>\n",
       "    <tr>\n",
       "      <th>16</th>\n",
       "      <td>DT.INT.DLXF.CD</td>\n",
       "      <td>Interest payments on external debt, long-term ...</td>\n",
       "      <td>1.786655e+10</td>\n",
       "    </tr>\n",
       "    <tr>\n",
       "      <th>9</th>\n",
       "      <td>DT.DIS.DLXF.CD</td>\n",
       "      <td>Disbursements on external debt, long-term (DIS...</td>\n",
       "      <td>1.569256e+10</td>\n",
       "    </tr>\n",
       "    <tr>\n",
       "      <th>8</th>\n",
       "      <td>DT.AMT.PRVT.CD</td>\n",
       "      <td>PPG, private creditors (AMT, current US$)</td>\n",
       "      <td>1.467746e+10</td>\n",
       "    </tr>\n",
       "  </tbody>\n",
       "</table>\n",
       "</div>"
      ],
      "text/plain": [
       "    Indicator_code                                     Indicator_name  \\\n",
       "1   DT.AMT.DLXF.CD  Principal repayments on external debt, long-te...   \n",
       "2   DT.AMT.DPNG.CD  Principal repayments on external debt, private...   \n",
       "16  DT.INT.DLXF.CD  Interest payments on external debt, long-term ...   \n",
       "9   DT.DIS.DLXF.CD  Disbursements on external debt, long-term (DIS...   \n",
       "8   DT.AMT.PRVT.CD          PPG, private creditors (AMT, current US$)   \n",
       "\n",
       "            Debt  \n",
       "1   9.621862e+10  \n",
       "2   7.239299e+10  \n",
       "16  1.786655e+10  \n",
       "9   1.569256e+10  \n",
       "8   1.467746e+10  "
      ]
     },
     "execution_count": 464,
     "metadata": {},
     "output_type": "execute_result"
    }
   ],
   "source": [
    "China_debt = (debt[debt['Country'] == 'China']\n",
    "              .groupby(['Indicator_code', 'Indicator_name'])['Debt'].sum().reset_index().sort_values(by='Debt', ascending=False))\n",
    "China_debt.head(5)"
   ]
  },
  {
   "cell_type": "markdown",
   "id": "63da74cb-943c-41bb-8105-86bd2ab6edc1",
   "metadata": {},
   "source": [
    "`China's` biggest indicator is on repayments of long term foreign loan principal at `96 billion`, followed by Debt owed to Private Non-Guaranteed at `72 billion`"
   ]
  },
  {
   "cell_type": "code",
   "execution_count": 466,
   "id": "c47c63cb-f5fe-491a-aa67-b0b938cb20b5",
   "metadata": {},
   "outputs": [
    {
     "data": {
      "text/html": [
       "<div>\n",
       "<style scoped>\n",
       "    .dataframe tbody tr th:only-of-type {\n",
       "        vertical-align: middle;\n",
       "    }\n",
       "\n",
       "    .dataframe tbody tr th {\n",
       "        vertical-align: top;\n",
       "    }\n",
       "\n",
       "    .dataframe thead th {\n",
       "        text-align: right;\n",
       "    }\n",
       "</style>\n",
       "<table border=\"1\" class=\"dataframe\">\n",
       "  <thead>\n",
       "    <tr style=\"text-align: right;\">\n",
       "      <th></th>\n",
       "      <th>Indicator_code</th>\n",
       "      <th>Indicator_name</th>\n",
       "      <th>Debt</th>\n",
       "    </tr>\n",
       "  </thead>\n",
       "  <tbody>\n",
       "    <tr>\n",
       "      <th>22</th>\n",
       "      <td>DT.INT.PROP.CD</td>\n",
       "      <td>PPG, other private creditors (INT, current US$)</td>\n",
       "      <td>156342427.9</td>\n",
       "    </tr>\n",
       "    <tr>\n",
       "      <th>13</th>\n",
       "      <td>DT.DIS.PROP.CD</td>\n",
       "      <td>PPG, other private creditors (DIS, current US$)</td>\n",
       "      <td>334012200.7</td>\n",
       "    </tr>\n",
       "    <tr>\n",
       "      <th>15</th>\n",
       "      <td>DT.INT.BLAT.CD</td>\n",
       "      <td>PPG, bilateral (INT, current US$)</td>\n",
       "      <td>514898407.1</td>\n",
       "    </tr>\n",
       "    <tr>\n",
       "      <th>7</th>\n",
       "      <td>DT.AMT.PROP.CD</td>\n",
       "      <td>PPG, other private creditors (AMT, current US$)</td>\n",
       "      <td>796544167.4</td>\n",
       "    </tr>\n",
       "    <tr>\n",
       "      <th>18</th>\n",
       "      <td>DT.INT.MLAT.CD</td>\n",
       "      <td>PPG, multilateral (INT, current US$)</td>\n",
       "      <td>858406974.8</td>\n",
       "    </tr>\n",
       "  </tbody>\n",
       "</table>\n",
       "</div>"
      ],
      "text/plain": [
       "    Indicator_code                                   Indicator_name  \\\n",
       "22  DT.INT.PROP.CD  PPG, other private creditors (INT, current US$)   \n",
       "13  DT.DIS.PROP.CD  PPG, other private creditors (DIS, current US$)   \n",
       "15  DT.INT.BLAT.CD                PPG, bilateral (INT, current US$)   \n",
       "7   DT.AMT.PROP.CD  PPG, other private creditors (AMT, current US$)   \n",
       "18  DT.INT.MLAT.CD             PPG, multilateral (INT, current US$)   \n",
       "\n",
       "           Debt  \n",
       "22  156342427.9  \n",
       "13  334012200.7  \n",
       "15  514898407.1  \n",
       "7   796544167.4  \n",
       "18  858406974.8  "
      ]
     },
     "execution_count": 466,
     "metadata": {},
     "output_type": "execute_result"
    }
   ],
   "source": [
    "China_debt = (debt[debt['Country'] == 'China']\n",
    "              .groupby(['Indicator_code', 'Indicator_name'])['Debt'].sum().reset_index().sort_values(by='Debt', ascending=True))\n",
    "China_debt.head(5)"
   ]
  },
  {
   "cell_type": "markdown",
   "id": "5536cd0d-6847-4ab4-999f-71ab0a723fff",
   "metadata": {},
   "source": [
    "## Nigeria"
   ]
  },
  {
   "cell_type": "code",
   "execution_count": 494,
   "id": "2e5f6c3f-d75c-46cf-aae6-4e149dfc4aa3",
   "metadata": {},
   "outputs": [
    {
     "name": "stdout",
     "output_type": "stream",
     "text": [
      "14149905240.9\n"
     ]
    }
   ],
   "source": [
    "Nigerian_debt = (debt[debt['Country'] == 'Nigeria'])['Debt'].sum()\n",
    "print(Nigerian_debt)"
   ]
  },
  {
   "cell_type": "markdown",
   "id": "9ecb39d2-a0d5-41ca-b2e2-50ea909164a0",
   "metadata": {},
   "source": [
    "The total amount owed by Nigeria is `14 billion`"
   ]
  },
  {
   "cell_type": "code",
   "execution_count": 477,
   "id": "370e8fbf-49c5-44fa-865a-4cdf421e0f25",
   "metadata": {},
   "outputs": [
    {
     "data": {
      "text/html": [
       "<div>\n",
       "<style scoped>\n",
       "    .dataframe tbody tr th:only-of-type {\n",
       "        vertical-align: middle;\n",
       "    }\n",
       "\n",
       "    .dataframe tbody tr th {\n",
       "        vertical-align: top;\n",
       "    }\n",
       "\n",
       "    .dataframe thead th {\n",
       "        text-align: right;\n",
       "    }\n",
       "</style>\n",
       "<table border=\"1\" class=\"dataframe\">\n",
       "  <thead>\n",
       "    <tr style=\"text-align: right;\">\n",
       "      <th></th>\n",
       "      <th>Indicator_code</th>\n",
       "      <th>Indicator_name</th>\n",
       "      <th>Debt</th>\n",
       "    </tr>\n",
       "  </thead>\n",
       "  <tbody>\n",
       "    <tr>\n",
       "      <th>1</th>\n",
       "      <td>DT.AMT.DLXF.CD</td>\n",
       "      <td>Principal repayments on external debt, long-te...</td>\n",
       "      <td>2.957694e+09</td>\n",
       "    </tr>\n",
       "    <tr>\n",
       "      <th>2</th>\n",
       "      <td>DT.AMT.DPNG.CD</td>\n",
       "      <td>Principal repayments on external debt, private...</td>\n",
       "      <td>2.573686e+09</td>\n",
       "    </tr>\n",
       "    <tr>\n",
       "      <th>10</th>\n",
       "      <td>DT.DIS.OFFT.CD</td>\n",
       "      <td>PPG, official creditors (DIS, current US$)</td>\n",
       "      <td>1.642511e+09</td>\n",
       "    </tr>\n",
       "    <tr>\n",
       "      <th>8</th>\n",
       "      <td>DT.DIS.DLXF.CD</td>\n",
       "      <td>Disbursements on external debt, long-term (DIS...</td>\n",
       "      <td>1.642511e+09</td>\n",
       "    </tr>\n",
       "    <tr>\n",
       "      <th>9</th>\n",
       "      <td>DT.DIS.MLAT.CD</td>\n",
       "      <td>PPG, multilateral (DIS, current US$)</td>\n",
       "      <td>1.444703e+09</td>\n",
       "    </tr>\n",
       "    <tr>\n",
       "      <th>12</th>\n",
       "      <td>DT.INT.DLXF.CD</td>\n",
       "      <td>Interest payments on external debt, long-term ...</td>\n",
       "      <td>1.174954e+09</td>\n",
       "    </tr>\n",
       "    <tr>\n",
       "      <th>13</th>\n",
       "      <td>DT.INT.DPNG.CD</td>\n",
       "      <td>Interest payments on external debt, private no...</td>\n",
       "      <td>6.018840e+08</td>\n",
       "    </tr>\n",
       "    <tr>\n",
       "      <th>4</th>\n",
       "      <td>DT.AMT.OFFT.CD</td>\n",
       "      <td>PPG, official creditors (AMT, current US$)</td>\n",
       "      <td>3.840083e+08</td>\n",
       "    </tr>\n",
       "    <tr>\n",
       "      <th>16</th>\n",
       "      <td>DT.INT.PBND.CD</td>\n",
       "      <td>PPG, bonds (INT, current US$)</td>\n",
       "      <td>3.806220e+08</td>\n",
       "    </tr>\n",
       "    <tr>\n",
       "      <th>17</th>\n",
       "      <td>DT.INT.PRVT.CD</td>\n",
       "      <td>PPG, private creditors (INT, current US$)</td>\n",
       "      <td>3.806220e+08</td>\n",
       "    </tr>\n",
       "  </tbody>\n",
       "</table>\n",
       "</div>"
      ],
      "text/plain": [
       "    Indicator_code                                     Indicator_name  \\\n",
       "1   DT.AMT.DLXF.CD  Principal repayments on external debt, long-te...   \n",
       "2   DT.AMT.DPNG.CD  Principal repayments on external debt, private...   \n",
       "10  DT.DIS.OFFT.CD         PPG, official creditors (DIS, current US$)   \n",
       "8   DT.DIS.DLXF.CD  Disbursements on external debt, long-term (DIS...   \n",
       "9   DT.DIS.MLAT.CD               PPG, multilateral (DIS, current US$)   \n",
       "12  DT.INT.DLXF.CD  Interest payments on external debt, long-term ...   \n",
       "13  DT.INT.DPNG.CD  Interest payments on external debt, private no...   \n",
       "4   DT.AMT.OFFT.CD         PPG, official creditors (AMT, current US$)   \n",
       "16  DT.INT.PBND.CD                      PPG, bonds (INT, current US$)   \n",
       "17  DT.INT.PRVT.CD          PPG, private creditors (INT, current US$)   \n",
       "\n",
       "            Debt  \n",
       "1   2.957694e+09  \n",
       "2   2.573686e+09  \n",
       "10  1.642511e+09  \n",
       "8   1.642511e+09  \n",
       "9   1.444703e+09  \n",
       "12  1.174954e+09  \n",
       "13  6.018840e+08  \n",
       "4   3.840083e+08  \n",
       "16  3.806220e+08  \n",
       "17  3.806220e+08  "
      ]
     },
     "execution_count": 477,
     "metadata": {},
     "output_type": "execute_result"
    }
   ],
   "source": [
    "Nigeria_debt = (debt[debt['Country'] == 'Nigeria']\n",
    "              .groupby(['Indicator_code', 'Indicator_name'])['Debt'].sum().reset_index().sort_values(by='Debt', ascending=False))\n",
    "Nigeria_debt.head(10)"
   ]
  },
  {
   "cell_type": "markdown",
   "id": "8465ea36-8938-4251-9017-fdeb2ffa367c",
   "metadata": {},
   "source": [
    "`Nigeria's` top 2 largest debt is owed due to repayment of principal amount on long term external loans and private external loan principal repayment totaling `2.96 billion` and `2.57 billion` respectively"
   ]
  },
  {
   "cell_type": "markdown",
   "id": "bcafb4d5-6df5-478e-bb37-85fb7c01f5fe",
   "metadata": {},
   "source": [
    "# Debt Domination by Composition "
   ]
  },
  {
   "cell_type": "markdown",
   "id": "8e9cfad6-23f4-44f1-9cbb-5d36f027a447",
   "metadata": {},
   "source": [
    "## Disbursement"
   ]
  },
  {
   "cell_type": "code",
   "execution_count": 672,
   "id": "e26db1cc-2f66-4883-8a00-81bf4359b050",
   "metadata": {},
   "outputs": [
    {
     "name": "stdout",
     "output_type": "stream",
     "text": [
      "264701069677.5\n"
     ]
    }
   ],
   "source": [
    "disbursement = (debt[debt['Indicator_code'] == 'DT.DIS.DLXF.CD']['Debt'].sum())\n",
    "print(disbursement)"
   ]
  },
  {
   "cell_type": "markdown",
   "id": "4124bc1f-6056-41c3-8c77-c7a2ac155c8d",
   "metadata": {},
   "source": [
    "The total amount of new loans secured by all the countries is `264 billion`"
   ]
  },
  {
   "cell_type": "markdown",
   "id": "7ab54101-2be4-4af4-98e4-ff6431a8d7f3",
   "metadata": {},
   "source": [
    "### By Continent"
   ]
  },
  {
   "cell_type": "code",
   "execution_count": 529,
   "id": "efbddad4-cdba-4f41-a8de-c33c31d82b5b",
   "metadata": {},
   "outputs": [
    {
     "data": {
      "text/html": [
       "<div>\n",
       "<style scoped>\n",
       "    .dataframe tbody tr th:only-of-type {\n",
       "        vertical-align: middle;\n",
       "    }\n",
       "\n",
       "    .dataframe tbody tr th {\n",
       "        vertical-align: top;\n",
       "    }\n",
       "\n",
       "    .dataframe thead th {\n",
       "        text-align: right;\n",
       "    }\n",
       "</style>\n",
       "<table border=\"1\" class=\"dataframe\">\n",
       "  <thead>\n",
       "    <tr style=\"text-align: right;\">\n",
       "      <th></th>\n",
       "      <th>Continent</th>\n",
       "      <th>Debt</th>\n",
       "    </tr>\n",
       "  </thead>\n",
       "  <tbody>\n",
       "    <tr>\n",
       "      <th>1</th>\n",
       "      <td>Asia</td>\n",
       "      <td>9.985178e+10</td>\n",
       "    </tr>\n",
       "    <tr>\n",
       "      <th>6</th>\n",
       "      <td>Unspecified</td>\n",
       "      <td>7.469195e+10</td>\n",
       "    </tr>\n",
       "    <tr>\n",
       "      <th>0</th>\n",
       "      <td>Africa</td>\n",
       "      <td>6.840683e+10</td>\n",
       "    </tr>\n",
       "    <tr>\n",
       "      <th>5</th>\n",
       "      <td>South America</td>\n",
       "      <td>9.830951e+09</td>\n",
       "    </tr>\n",
       "    <tr>\n",
       "      <th>2</th>\n",
       "      <td>Europe</td>\n",
       "      <td>7.532003e+09</td>\n",
       "    </tr>\n",
       "    <tr>\n",
       "      <th>3</th>\n",
       "      <td>North America</td>\n",
       "      <td>3.655528e+09</td>\n",
       "    </tr>\n",
       "    <tr>\n",
       "      <th>4</th>\n",
       "      <td>Oceania</td>\n",
       "      <td>7.320231e+08</td>\n",
       "    </tr>\n",
       "  </tbody>\n",
       "</table>\n",
       "</div>"
      ],
      "text/plain": [
       "       Continent          Debt\n",
       "1           Asia  9.985178e+10\n",
       "6    Unspecified  7.469195e+10\n",
       "0         Africa  6.840683e+10\n",
       "5  South America  9.830951e+09\n",
       "2         Europe  7.532003e+09\n",
       "3  North America  3.655528e+09\n",
       "4        Oceania  7.320231e+08"
      ]
     },
     "execution_count": 529,
     "metadata": {},
     "output_type": "execute_result"
    }
   ],
   "source": [
    "disbursement = (debt[debt['Indicator_code'] == 'DT.DIS.DLXF.CD']\n",
    "              .groupby(['Continent'])['Debt'].sum().reset_index().sort_values(by='Debt', ascending=False))\n",
    "disbursement.head(10)"
   ]
  },
  {
   "cell_type": "markdown",
   "id": "e0eb6a38-d41f-46c1-92f5-e682af3bb15c",
   "metadata": {},
   "source": [
    "`Asia` incurred the highest amount of external long term debt with `99.8 billion` and `Oceanian countries` have the lowest with `732 million`"
   ]
  },
  {
   "cell_type": "markdown",
   "id": "69e05ebc-a158-4900-84a1-760517f04ad2",
   "metadata": {},
   "source": [
    "### By Country"
   ]
  },
  {
   "cell_type": "code",
   "execution_count": 533,
   "id": "5db06f6d-6754-494f-ab0a-d6a7725a41bf",
   "metadata": {},
   "outputs": [
    {
     "data": {
      "text/html": [
       "<div>\n",
       "<style scoped>\n",
       "    .dataframe tbody tr th:only-of-type {\n",
       "        vertical-align: middle;\n",
       "    }\n",
       "\n",
       "    .dataframe tbody tr th {\n",
       "        vertical-align: top;\n",
       "    }\n",
       "\n",
       "    .dataframe thead th {\n",
       "        text-align: right;\n",
       "    }\n",
       "</style>\n",
       "<table border=\"1\" class=\"dataframe\">\n",
       "  <thead>\n",
       "    <tr style=\"text-align: right;\">\n",
       "      <th></th>\n",
       "      <th>Country</th>\n",
       "      <th>Debt</th>\n",
       "    </tr>\n",
       "  </thead>\n",
       "  <tbody>\n",
       "    <tr>\n",
       "      <th>62</th>\n",
       "      <td>Least developed countries: UN classification</td>\n",
       "      <td>4.016077e+10</td>\n",
       "    </tr>\n",
       "    <tr>\n",
       "      <th>51</th>\n",
       "      <td>IDA</td>\n",
       "      <td>3.453119e+10</td>\n",
       "    </tr>\n",
       "    <tr>\n",
       "      <th>100</th>\n",
       "      <td>South Asia</td>\n",
       "      <td>2.930622e+10</td>\n",
       "    </tr>\n",
       "    <tr>\n",
       "      <th>20</th>\n",
       "      <td>Cameroon</td>\n",
       "      <td>1.818666e+10</td>\n",
       "    </tr>\n",
       "    <tr>\n",
       "      <th>23</th>\n",
       "      <td>China</td>\n",
       "      <td>1.569256e+10</td>\n",
       "    </tr>\n",
       "  </tbody>\n",
       "</table>\n",
       "</div>"
      ],
      "text/plain": [
       "                                          Country          Debt\n",
       "62   Least developed countries: UN classification  4.016077e+10\n",
       "51                                            IDA  3.453119e+10\n",
       "100                                    South Asia  2.930622e+10\n",
       "20                                       Cameroon  1.818666e+10\n",
       "23                                          China  1.569256e+10"
      ]
     },
     "execution_count": 533,
     "metadata": {},
     "output_type": "execute_result"
    }
   ],
   "source": [
    "disbursement = (debt[debt['Indicator_code'] == 'DT.DIS.DLXF.CD']\n",
    "              .groupby(['Country'])['Debt'].sum().reset_index().sort_values(by='Debt', ascending=False))\n",
    "disbursement.head(5)"
   ]
  },
  {
   "cell_type": "markdown",
   "id": "bc11546e-64eb-4238-93d0-beda82ca73d7",
   "metadata": {},
   "source": [
    "The `Least Developed Countries according to UN Classification`, though undisclosed, are the biggest debtors under the long term loan disbursement with a total of `40 billion`. If we exlclude ambigous terms such as this, `IDA` and `South Asia`, then `Cameroon` becomes the biggest debtor under new long term loan disbursement with `18 billion`, closely followed by `China` with `15 billion`"
   ]
  },
  {
   "cell_type": "code",
   "execution_count": 535,
   "id": "7418144e-728a-40e3-837c-bb9b840fbe2b",
   "metadata": {},
   "outputs": [
    {
     "data": {
      "text/html": [
       "<div>\n",
       "<style scoped>\n",
       "    .dataframe tbody tr th:only-of-type {\n",
       "        vertical-align: middle;\n",
       "    }\n",
       "\n",
       "    .dataframe tbody tr th {\n",
       "        vertical-align: top;\n",
       "    }\n",
       "\n",
       "    .dataframe thead th {\n",
       "        text-align: right;\n",
       "    }\n",
       "</style>\n",
       "<table border=\"1\" class=\"dataframe\">\n",
       "  <thead>\n",
       "    <tr style=\"text-align: right;\">\n",
       "      <th></th>\n",
       "      <th>Country</th>\n",
       "      <th>Continent</th>\n",
       "      <th>Debt</th>\n",
       "    </tr>\n",
       "  </thead>\n",
       "  <tbody>\n",
       "    <tr>\n",
       "      <th>98</th>\n",
       "      <td>Somalia</td>\n",
       "      <td>Africa</td>\n",
       "      <td>2456971.6</td>\n",
       "    </tr>\n",
       "    <tr>\n",
       "      <th>111</th>\n",
       "      <td>Tonga</td>\n",
       "      <td>Oceania</td>\n",
       "      <td>5529604.8</td>\n",
       "    </tr>\n",
       "    <tr>\n",
       "      <th>36</th>\n",
       "      <td>Eritrea</td>\n",
       "      <td>Africa</td>\n",
       "      <td>7203213.6</td>\n",
       "    </tr>\n",
       "    <tr>\n",
       "      <th>97</th>\n",
       "      <td>Solomon Islands</td>\n",
       "      <td>Oceania</td>\n",
       "      <td>8645249.9</td>\n",
       "    </tr>\n",
       "    <tr>\n",
       "      <th>2</th>\n",
       "      <td>Algeria</td>\n",
       "      <td>Africa</td>\n",
       "      <td>10320772.2</td>\n",
       "    </tr>\n",
       "  </tbody>\n",
       "</table>\n",
       "</div>"
      ],
      "text/plain": [
       "             Country Continent        Debt\n",
       "98           Somalia    Africa   2456971.6\n",
       "111            Tonga   Oceania   5529604.8\n",
       "36           Eritrea    Africa   7203213.6\n",
       "97   Solomon Islands   Oceania   8645249.9\n",
       "2            Algeria    Africa  10320772.2"
      ]
     },
     "execution_count": 535,
     "metadata": {},
     "output_type": "execute_result"
    }
   ],
   "source": [
    "disbursement = (debt[debt['Indicator_code'] == 'DT.DIS.DLXF.CD']\n",
    "              .groupby(['Country', 'Continent'])['Debt'].sum().reset_index().sort_values(by='Debt', ascending=True))\n",
    "disbursement.head(5)"
   ]
  },
  {
   "cell_type": "markdown",
   "id": "948660b7-39ef-447b-b060-ae394608db4e",
   "metadata": {},
   "source": [
    "`Somalia` managed to incur the lowest amount under disbursement with just `$2.47 million` owed under long term external loan disbursement"
   ]
  },
  {
   "cell_type": "markdown",
   "id": "1061c5fd-8392-4af2-9dd2-745c0ddcd93a",
   "metadata": {},
   "source": [
    "## Interest Payment(Long Term and Private Non Guaranteed)"
   ]
  },
  {
   "cell_type": "code",
   "execution_count": 679,
   "id": "274db27c-8aff-4950-95b0-97653460cf7b",
   "metadata": {},
   "outputs": [
    {
     "name": "stdout",
     "output_type": "stream",
     "text": [
      "300271441098.0\n"
     ]
    }
   ],
   "source": [
    "INT = (debt[debt['Indicator_code'].isin(['DT.INT.DLXF.CD', 'DT.INT.DPNG.CD'])]['Debt'].sum())\n",
    "print(INT)"
   ]
  },
  {
   "cell_type": "markdown",
   "id": "90044a19-d822-48a7-88ab-4ac8bc7fe20b",
   "metadata": {},
   "source": [
    "The total amount of new loans secured by all the countries is `300 billion`"
   ]
  },
  {
   "cell_type": "markdown",
   "id": "a623eb9c-e850-4a3c-b947-ab5debecdcce",
   "metadata": {},
   "source": [
    "### By Continent"
   ]
  },
  {
   "cell_type": "code",
   "execution_count": 527,
   "id": "f1e86762-3f35-4489-893f-8e4a41c95093",
   "metadata": {},
   "outputs": [
    {
     "data": {
      "text/html": [
       "<div>\n",
       "<style scoped>\n",
       "    .dataframe tbody tr th:only-of-type {\n",
       "        vertical-align: middle;\n",
       "    }\n",
       "\n",
       "    .dataframe tbody tr th {\n",
       "        vertical-align: top;\n",
       "    }\n",
       "\n",
       "    .dataframe thead th {\n",
       "        text-align: right;\n",
       "    }\n",
       "</style>\n",
       "<table border=\"1\" class=\"dataframe\">\n",
       "  <thead>\n",
       "    <tr style=\"text-align: right;\">\n",
       "      <th></th>\n",
       "      <th>Continent</th>\n",
       "      <th>Debt</th>\n",
       "    </tr>\n",
       "  </thead>\n",
       "  <tbody>\n",
       "    <tr>\n",
       "      <th>1</th>\n",
       "      <td>Asia</td>\n",
       "      <td>1.472439e+11</td>\n",
       "    </tr>\n",
       "    <tr>\n",
       "      <th>5</th>\n",
       "      <td>South America</td>\n",
       "      <td>4.666332e+10</td>\n",
       "    </tr>\n",
       "    <tr>\n",
       "      <th>2</th>\n",
       "      <td>Europe</td>\n",
       "      <td>3.791678e+10</td>\n",
       "    </tr>\n",
       "    <tr>\n",
       "      <th>3</th>\n",
       "      <td>North America</td>\n",
       "      <td>3.144206e+10</td>\n",
       "    </tr>\n",
       "    <tr>\n",
       "      <th>0</th>\n",
       "      <td>Africa</td>\n",
       "      <td>1.963501e+10</td>\n",
       "    </tr>\n",
       "    <tr>\n",
       "      <th>6</th>\n",
       "      <td>Unspecified</td>\n",
       "      <td>1.629516e+10</td>\n",
       "    </tr>\n",
       "    <tr>\n",
       "      <th>4</th>\n",
       "      <td>Oceania</td>\n",
       "      <td>1.075157e+09</td>\n",
       "    </tr>\n",
       "  </tbody>\n",
       "</table>\n",
       "</div>"
      ],
      "text/plain": [
       "       Continent          Debt\n",
       "1           Asia  1.472439e+11\n",
       "5  South America  4.666332e+10\n",
       "2         Europe  3.791678e+10\n",
       "3  North America  3.144206e+10\n",
       "0         Africa  1.963501e+10\n",
       "6    Unspecified  1.629516e+10\n",
       "4        Oceania  1.075157e+09"
      ]
     },
     "execution_count": 527,
     "metadata": {},
     "output_type": "execute_result"
    }
   ],
   "source": [
    "INT = (debt[debt['Indicator_code'].isin(['DT.INT.DLXF.CD', 'DT.INT.DPNG.CD'])]\n",
    "              .groupby(['Continent'])['Debt'].sum().reset_index().sort_values(by='Debt', ascending=False))\n",
    "INT.head(7)"
   ]
  },
  {
   "cell_type": "markdown",
   "id": "c2959716-5fe6-40ad-a029-391e3888a5ca",
   "metadata": {},
   "source": [
    "`Asian countries` owe the most money due to interests on long term loans and private non guaranteed loans with `92 billion` and `55 billion` respectively with `America`"
   ]
  },
  {
   "cell_type": "markdown",
   "id": "5e7db557-84b6-4852-a243-c8962064f512",
   "metadata": {},
   "source": [
    "### By Country"
   ]
  },
  {
   "cell_type": "code",
   "execution_count": 519,
   "id": "ffc910ef-e53c-4852-87cb-546901026125",
   "metadata": {},
   "outputs": [
    {
     "data": {
      "text/html": [
       "<div>\n",
       "<style scoped>\n",
       "    .dataframe tbody tr th:only-of-type {\n",
       "        vertical-align: middle;\n",
       "    }\n",
       "\n",
       "    .dataframe tbody tr th {\n",
       "        vertical-align: top;\n",
       "    }\n",
       "\n",
       "    .dataframe thead th {\n",
       "        text-align: right;\n",
       "    }\n",
       "</style>\n",
       "<table border=\"1\" class=\"dataframe\">\n",
       "  <thead>\n",
       "    <tr style=\"text-align: right;\">\n",
       "      <th></th>\n",
       "      <th>Country</th>\n",
       "      <th>Debt</th>\n",
       "    </tr>\n",
       "  </thead>\n",
       "  <tbody>\n",
       "    <tr>\n",
       "      <th>23</th>\n",
       "      <td>China</td>\n",
       "      <td>3.200927e+10</td>\n",
       "    </tr>\n",
       "    <tr>\n",
       "      <th>14</th>\n",
       "      <td>Brazil</td>\n",
       "      <td>2.795389e+10</td>\n",
       "    </tr>\n",
       "    <tr>\n",
       "      <th>100</th>\n",
       "      <td>South Asia</td>\n",
       "      <td>2.574467e+10</td>\n",
       "    </tr>\n",
       "    <tr>\n",
       "      <th>73</th>\n",
       "      <td>Mexico</td>\n",
       "      <td>2.473414e+10</td>\n",
       "    </tr>\n",
       "    <tr>\n",
       "      <th>90</th>\n",
       "      <td>Russian Federation</td>\n",
       "      <td>2.149850e+10</td>\n",
       "    </tr>\n",
       "  </tbody>\n",
       "</table>\n",
       "</div>"
      ],
      "text/plain": [
       "                Country          Debt\n",
       "23                China  3.200927e+10\n",
       "14               Brazil  2.795389e+10\n",
       "100          South Asia  2.574467e+10\n",
       "73               Mexico  2.473414e+10\n",
       "90   Russian Federation  2.149850e+10"
      ]
     },
     "execution_count": 519,
     "metadata": {},
     "output_type": "execute_result"
    }
   ],
   "source": [
    "INT = (debt[debt['Indicator_code'].isin(['DT.INT.DLXF.CD', 'DT.INT.DPNG.CD'])]\n",
    "              .groupby(['Country'])['Debt'].sum().reset_index().sort_values(by='Debt', ascending=False))\n",
    "INT.head(5)"
   ]
  },
  {
   "cell_type": "markdown",
   "id": "c0d88692-2422-4c2a-8907-4a6894103bf6",
   "metadata": {},
   "source": [
    "`China` owes the highest amount due to interest payment, standing at `32 billion`. `Brazil`, `South Asia`, `Mexico` and `Russia` make up the top 5 with every one of them owing over well over `21 billion`"
   ]
  },
  {
   "cell_type": "code",
   "execution_count": 539,
   "id": "6439e50c-45eb-423e-b00a-4b541bebf6e7",
   "metadata": {},
   "outputs": [
    {
     "data": {
      "text/html": [
       "<div>\n",
       "<style scoped>\n",
       "    .dataframe tbody tr th:only-of-type {\n",
       "        vertical-align: middle;\n",
       "    }\n",
       "\n",
       "    .dataframe tbody tr th {\n",
       "        vertical-align: top;\n",
       "    }\n",
       "\n",
       "    .dataframe thead th {\n",
       "        text-align: right;\n",
       "    }\n",
       "</style>\n",
       "<table border=\"1\" class=\"dataframe\">\n",
       "  <thead>\n",
       "    <tr style=\"text-align: right;\">\n",
       "      <th></th>\n",
       "      <th>Country</th>\n",
       "      <th>Continent</th>\n",
       "      <th>Debt</th>\n",
       "    </tr>\n",
       "  </thead>\n",
       "  <tbody>\n",
       "    <tr>\n",
       "      <th>25</th>\n",
       "      <td>Comoros</td>\n",
       "      <td>Africa</td>\n",
       "      <td>937189.9</td>\n",
       "    </tr>\n",
       "    <tr>\n",
       "      <th>109</th>\n",
       "      <td>Timor-Leste</td>\n",
       "      <td>Asia</td>\n",
       "      <td>1042000.0</td>\n",
       "    </tr>\n",
       "    <tr>\n",
       "      <th>93</th>\n",
       "      <td>Sao Tome and Principe</td>\n",
       "      <td>Africa</td>\n",
       "      <td>1354432.7</td>\n",
       "    </tr>\n",
       "    <tr>\n",
       "      <th>47</th>\n",
       "      <td>Guinea-Bissau</td>\n",
       "      <td>Africa</td>\n",
       "      <td>1462857.5</td>\n",
       "    </tr>\n",
       "    <tr>\n",
       "      <th>21</th>\n",
       "      <td>Central African Republic</td>\n",
       "      <td>Africa</td>\n",
       "      <td>2354220.8</td>\n",
       "    </tr>\n",
       "  </tbody>\n",
       "</table>\n",
       "</div>"
      ],
      "text/plain": [
       "                      Country Continent       Debt\n",
       "25                    Comoros    Africa   937189.9\n",
       "109               Timor-Leste      Asia  1042000.0\n",
       "93      Sao Tome and Principe    Africa  1354432.7\n",
       "47              Guinea-Bissau    Africa  1462857.5\n",
       "21   Central African Republic    Africa  2354220.8"
      ]
     },
     "execution_count": 539,
     "metadata": {},
     "output_type": "execute_result"
    }
   ],
   "source": [
    "INT = (debt[debt['Indicator_code'].isin(['DT.INT.DLXF.CD', 'DT.INT.DPNG.CD'])]\n",
    "              .groupby(['Country', 'Continent'])['Debt'].sum().reset_index().sort_values(by='Debt', ascending=True))\n",
    "INT.head(5)"
   ]
  },
  {
   "cell_type": "markdown",
   "id": "d6432cd1-752e-4577-847f-11eddd996b26",
   "metadata": {},
   "source": [
    "`Comoros` owes the least debt due to interest repayment with a figure standing at `937,189`, closely followed by `Timor-Leste` with just a little above a million"
   ]
  },
  {
   "cell_type": "markdown",
   "id": "71482ba5-47e1-48eb-99af-fc5afd176f68",
   "metadata": {},
   "source": [
    "### Bilateral Loans"
   ]
  },
  {
   "cell_type": "code",
   "execution_count": 685,
   "id": "4fff2906-6c62-4685-9394-8d542b712beb",
   "metadata": {},
   "outputs": [
    {
     "name": "stdout",
     "output_type": "stream",
     "text": [
      "245173716087.80005\n"
     ]
    }
   ],
   "source": [
    "Bilateral = (debt[debt['Indicator_code'].isin(['DT.AMT.BLAT.CD', 'DT.DIS.BLAT.CD', 'DT.INT.BLAT.CD'])]['Debt'].sum())\n",
    "\n",
    "print(Bilateral)"
   ]
  },
  {
   "cell_type": "markdown",
   "id": "dae9b7e9-76ba-4852-a3b5-b170cb4efc1f",
   "metadata": {},
   "source": [
    "The total amount of new loans secured by all the countries is `245 billion`"
   ]
  },
  {
   "cell_type": "markdown",
   "id": "653cb904-6eb1-4a61-8bd2-e3979a4fb010",
   "metadata": {},
   "source": [
    "### By Continent"
   ]
  },
  {
   "cell_type": "code",
   "execution_count": 517,
   "id": "9638a769-d66f-4afe-84a8-663063d2f2e7",
   "metadata": {},
   "outputs": [
    {
     "data": {
      "text/html": [
       "<div>\n",
       "<style scoped>\n",
       "    .dataframe tbody tr th:only-of-type {\n",
       "        vertical-align: middle;\n",
       "    }\n",
       "\n",
       "    .dataframe tbody tr th {\n",
       "        vertical-align: top;\n",
       "    }\n",
       "\n",
       "    .dataframe thead th {\n",
       "        text-align: right;\n",
       "    }\n",
       "</style>\n",
       "<table border=\"1\" class=\"dataframe\">\n",
       "  <thead>\n",
       "    <tr style=\"text-align: right;\">\n",
       "      <th></th>\n",
       "      <th>Continent</th>\n",
       "      <th>Debt</th>\n",
       "    </tr>\n",
       "  </thead>\n",
       "  <tbody>\n",
       "    <tr>\n",
       "      <th>1</th>\n",
       "      <td>Asia</td>\n",
       "      <td>8.365217e+10</td>\n",
       "    </tr>\n",
       "    <tr>\n",
       "      <th>0</th>\n",
       "      <td>Africa</td>\n",
       "      <td>7.960287e+10</td>\n",
       "    </tr>\n",
       "    <tr>\n",
       "      <th>6</th>\n",
       "      <td>Unspecified</td>\n",
       "      <td>6.481625e+10</td>\n",
       "    </tr>\n",
       "    <tr>\n",
       "      <th>5</th>\n",
       "      <td>South America</td>\n",
       "      <td>7.664453e+09</td>\n",
       "    </tr>\n",
       "    <tr>\n",
       "      <th>2</th>\n",
       "      <td>Europe</td>\n",
       "      <td>6.978173e+09</td>\n",
       "    </tr>\n",
       "    <tr>\n",
       "      <th>3</th>\n",
       "      <td>North America</td>\n",
       "      <td>2.039321e+09</td>\n",
       "    </tr>\n",
       "    <tr>\n",
       "      <th>4</th>\n",
       "      <td>Oceania</td>\n",
       "      <td>4.204872e+08</td>\n",
       "    </tr>\n",
       "  </tbody>\n",
       "</table>\n",
       "</div>"
      ],
      "text/plain": [
       "       Continent          Debt\n",
       "1           Asia  8.365217e+10\n",
       "0         Africa  7.960287e+10\n",
       "6    Unspecified  6.481625e+10\n",
       "5  South America  7.664453e+09\n",
       "2         Europe  6.978173e+09\n",
       "3  North America  2.039321e+09\n",
       "4        Oceania  4.204872e+08"
      ]
     },
     "execution_count": 517,
     "metadata": {},
     "output_type": "execute_result"
    }
   ],
   "source": [
    "Bilateral = (debt[debt['Indicator_code'].isin(['DT.AMT.BLAT.CD', 'DT.DIS.BLAT.CD', 'DT.INT.BLAT.CD'])]\n",
    "             .groupby('Continent')['Debt'].sum().reset_index().sort_values(by='Debt', ascending=False))\n",
    "\n",
    "Bilateral.head(10)"
   ]
  },
  {
   "cell_type": "markdown",
   "id": "ac4e740a-5225-4b1a-a0f0-4f701292bbd6",
   "metadata": {},
   "source": [
    "Standing at `83 billion` in debt, `Asia` owes the most amount due to bilateral loan, followed by `Africa` at `79 billion`. `Oceania` owes the least with just `42 billion` owed in bilateral debt."
   ]
  },
  {
   "cell_type": "markdown",
   "id": "da977ff6-9b21-4a27-8f63-ae0ac9892b0a",
   "metadata": {},
   "source": [
    "### By Country"
   ]
  },
  {
   "cell_type": "code",
   "execution_count": 549,
   "id": "cb79c46d-6e6a-494c-be8d-92e484ebf885",
   "metadata": {},
   "outputs": [
    {
     "data": {
      "text/html": [
       "<div>\n",
       "<style scoped>\n",
       "    .dataframe tbody tr th:only-of-type {\n",
       "        vertical-align: middle;\n",
       "    }\n",
       "\n",
       "    .dataframe tbody tr th {\n",
       "        vertical-align: top;\n",
       "    }\n",
       "\n",
       "    .dataframe thead th {\n",
       "        text-align: right;\n",
       "    }\n",
       "</style>\n",
       "<table border=\"1\" class=\"dataframe\">\n",
       "  <thead>\n",
       "    <tr style=\"text-align: right;\">\n",
       "      <th></th>\n",
       "      <th>Country</th>\n",
       "      <th>Continent</th>\n",
       "      <th>Debt</th>\n",
       "    </tr>\n",
       "  </thead>\n",
       "  <tbody>\n",
       "    <tr>\n",
       "      <th>62</th>\n",
       "      <td>Least developed countries: UN classification</td>\n",
       "      <td>Unspecified</td>\n",
       "      <td>3.930849e+10</td>\n",
       "    </tr>\n",
       "    <tr>\n",
       "      <th>20</th>\n",
       "      <td>Cameroon</td>\n",
       "      <td>Africa</td>\n",
       "      <td>2.721135e+10</td>\n",
       "    </tr>\n",
       "    <tr>\n",
       "      <th>99</th>\n",
       "      <td>South Asia</td>\n",
       "      <td>Asia</td>\n",
       "      <td>2.571184e+10</td>\n",
       "    </tr>\n",
       "    <tr>\n",
       "      <th>51</th>\n",
       "      <td>IDA</td>\n",
       "      <td>Unspecified</td>\n",
       "      <td>2.550776e+10</td>\n",
       "    </tr>\n",
       "    <tr>\n",
       "      <th>3</th>\n",
       "      <td>Angola</td>\n",
       "      <td>Africa</td>\n",
       "      <td>1.831713e+10</td>\n",
       "    </tr>\n",
       "  </tbody>\n",
       "</table>\n",
       "</div>"
      ],
      "text/plain": [
       "                                         Country    Continent          Debt\n",
       "62  Least developed countries: UN classification  Unspecified  3.930849e+10\n",
       "20                                      Cameroon       Africa  2.721135e+10\n",
       "99                                    South Asia         Asia  2.571184e+10\n",
       "51                                           IDA  Unspecified  2.550776e+10\n",
       "3                                         Angola       Africa  1.831713e+10"
      ]
     },
     "execution_count": 549,
     "metadata": {},
     "output_type": "execute_result"
    }
   ],
   "source": [
    "Bilateral = (debt[debt['Indicator_code'].isin(['DT.AMT.BLAT.CD', 'DT.DIS.BLAT.CD', 'DT.INT.BLAT.CD'])]\n",
    "              .groupby(['Country', 'Continent'])['Debt'].sum().reset_index().sort_values(by='Debt', ascending=False))\n",
    "Bilateral.head(5)"
   ]
  },
  {
   "cell_type": "markdown",
   "id": "851a0fa4-2dd4-4405-9793-a65b773a9c73",
   "metadata": {},
   "source": [
    "Countries classified by the UN as `Least Developed` owe the most amount due to bilateral loans, with `39 billion`. Ignoring ambiguity, `Cameroon` tops the chart with `27 billion`."
   ]
  },
  {
   "cell_type": "code",
   "execution_count": 556,
   "id": "07d8f2c8-fedd-459c-8e86-19178f7d6510",
   "metadata": {},
   "outputs": [
    {
     "data": {
      "text/html": [
       "<div>\n",
       "<style scoped>\n",
       "    .dataframe tbody tr th:only-of-type {\n",
       "        vertical-align: middle;\n",
       "    }\n",
       "\n",
       "    .dataframe tbody tr th {\n",
       "        vertical-align: top;\n",
       "    }\n",
       "\n",
       "    .dataframe thead th {\n",
       "        text-align: right;\n",
       "    }\n",
       "</style>\n",
       "<table border=\"1\" class=\"dataframe\">\n",
       "  <thead>\n",
       "    <tr style=\"text-align: right;\">\n",
       "      <th></th>\n",
       "      <th>Country</th>\n",
       "      <th>Continent</th>\n",
       "      <th>Debt</th>\n",
       "    </tr>\n",
       "  </thead>\n",
       "  <tbody>\n",
       "    <tr>\n",
       "      <th>47</th>\n",
       "      <td>Guinea-Bissau</td>\n",
       "      <td>Africa</td>\n",
       "      <td>95171.9</td>\n",
       "    </tr>\n",
       "    <tr>\n",
       "      <th>93</th>\n",
       "      <td>Sao Tome and Principe</td>\n",
       "      <td>Africa</td>\n",
       "      <td>1326961.8</td>\n",
       "    </tr>\n",
       "    <tr>\n",
       "      <th>97</th>\n",
       "      <td>Solomon Islands</td>\n",
       "      <td>Oceania</td>\n",
       "      <td>1491375.0</td>\n",
       "    </tr>\n",
       "    <tr>\n",
       "      <th>110</th>\n",
       "      <td>Tonga</td>\n",
       "      <td>Oceania</td>\n",
       "      <td>9113425.0</td>\n",
       "    </tr>\n",
       "    <tr>\n",
       "      <th>98</th>\n",
       "      <td>Somalia</td>\n",
       "      <td>Africa</td>\n",
       "      <td>9226771.4</td>\n",
       "    </tr>\n",
       "  </tbody>\n",
       "</table>\n",
       "</div>"
      ],
      "text/plain": [
       "                   Country Continent       Debt\n",
       "47           Guinea-Bissau    Africa    95171.9\n",
       "93   Sao Tome and Principe    Africa  1326961.8\n",
       "97         Solomon Islands   Oceania  1491375.0\n",
       "110                  Tonga   Oceania  9113425.0\n",
       "98                 Somalia    Africa  9226771.4"
      ]
     },
     "execution_count": 556,
     "metadata": {},
     "output_type": "execute_result"
    }
   ],
   "source": [
    "Bilateral = (debt[debt['Indicator_code'].isin(['DT.AMT.BLAT.CD', 'DT.DIS.BLAT.CD', 'DT.INT.BLAT.CD'])]\n",
    "              .groupby(['Country', 'Continent'])['Debt'].sum().reset_index().sort_values(by='Debt', ascending=True))\n",
    "Bilateral.head(5)"
   ]
  },
  {
   "cell_type": "markdown",
   "id": "b72fc11b-d24e-4c3b-9b8f-57b8c8fd0ea1",
   "metadata": {},
   "source": [
    "`Guinea-Bissau` owes the least with `95,171`"
   ]
  },
  {
   "cell_type": "markdown",
   "id": "462ae9e9-704d-4b00-9662-5e327058ddcf",
   "metadata": {},
   "source": [
    "### Bonds"
   ]
  },
  {
   "cell_type": "code",
   "execution_count": 692,
   "id": "1e75f31e-5595-45ac-8bc5-1593941b0e65",
   "metadata": {},
   "outputs": [
    {
     "name": "stdout",
     "output_type": "stream",
     "text": [
      "130227655373.4\n"
     ]
    }
   ],
   "source": [
    "bonds = (debt[debt['Indicator_code'].isin(['DT.AMT.PBND.CD', 'DT.INT.PBND.CD'])]['Debt'].sum())\n",
    "print(bonds)"
   ]
  },
  {
   "cell_type": "markdown",
   "id": "5f8e217d-44b3-4a20-ac2c-bf6823c3133d",
   "metadata": {},
   "source": [
    "The total amount of new loans secured by all the countries is `130 billion`"
   ]
  },
  {
   "cell_type": "markdown",
   "id": "ba5c888c-49f4-4208-98fe-8910846c3fbd",
   "metadata": {},
   "source": [
    "### By Continent"
   ]
  },
  {
   "cell_type": "code",
   "execution_count": 559,
   "id": "5992aba2-f84c-4fa4-8e84-dff039ea138e",
   "metadata": {},
   "outputs": [
    {
     "data": {
      "text/html": [
       "<div>\n",
       "<style scoped>\n",
       "    .dataframe tbody tr th:only-of-type {\n",
       "        vertical-align: middle;\n",
       "    }\n",
       "\n",
       "    .dataframe tbody tr th {\n",
       "        vertical-align: top;\n",
       "    }\n",
       "\n",
       "    .dataframe thead th {\n",
       "        text-align: right;\n",
       "    }\n",
       "</style>\n",
       "<table border=\"1\" class=\"dataframe\">\n",
       "  <thead>\n",
       "    <tr style=\"text-align: right;\">\n",
       "      <th></th>\n",
       "      <th>Continent</th>\n",
       "      <th>Debt</th>\n",
       "    </tr>\n",
       "  </thead>\n",
       "  <tbody>\n",
       "    <tr>\n",
       "      <th>1</th>\n",
       "      <td>Asia</td>\n",
       "      <td>5.266950e+10</td>\n",
       "    </tr>\n",
       "    <tr>\n",
       "      <th>3</th>\n",
       "      <td>North America</td>\n",
       "      <td>3.298362e+10</td>\n",
       "    </tr>\n",
       "    <tr>\n",
       "      <th>5</th>\n",
       "      <td>South America</td>\n",
       "      <td>1.926393e+10</td>\n",
       "    </tr>\n",
       "    <tr>\n",
       "      <th>0</th>\n",
       "      <td>Africa</td>\n",
       "      <td>1.124169e+10</td>\n",
       "    </tr>\n",
       "    <tr>\n",
       "      <th>2</th>\n",
       "      <td>Europe</td>\n",
       "      <td>1.054898e+10</td>\n",
       "    </tr>\n",
       "    <tr>\n",
       "      <th>6</th>\n",
       "      <td>Unspecified</td>\n",
       "      <td>3.506678e+09</td>\n",
       "    </tr>\n",
       "    <tr>\n",
       "      <th>4</th>\n",
       "      <td>Oceania</td>\n",
       "      <td>1.325000e+07</td>\n",
       "    </tr>\n",
       "  </tbody>\n",
       "</table>\n",
       "</div>"
      ],
      "text/plain": [
       "       Continent          Debt\n",
       "1           Asia  5.266950e+10\n",
       "3  North America  3.298362e+10\n",
       "5  South America  1.926393e+10\n",
       "0         Africa  1.124169e+10\n",
       "2         Europe  1.054898e+10\n",
       "6    Unspecified  3.506678e+09\n",
       "4        Oceania  1.325000e+07"
      ]
     },
     "execution_count": 559,
     "metadata": {},
     "output_type": "execute_result"
    }
   ],
   "source": [
    "bonds = (debt[debt['Indicator_code'].isin(['DT.AMT.PBND.CD', 'DT.INT.PBND.CD'])]\n",
    "              .groupby(['Continent'])['Debt'].sum().reset_index().sort_values(by='Debt', ascending=False))\n",
    "bonds.head(10)"
   ]
  },
  {
   "cell_type": "markdown",
   "id": "1e9ba3e0-1c11-4007-a173-8c14628f479c",
   "metadata": {},
   "source": [
    "`Asia` owes the most debt due to bonds at `52 billion`. `Oceania` owes the least with `13 million`"
   ]
  },
  {
   "cell_type": "markdown",
   "id": "73000f18-1803-4db0-b27d-e0a9ef7689fa",
   "metadata": {},
   "source": [
    "### By Country"
   ]
  },
  {
   "cell_type": "code",
   "execution_count": 568,
   "id": "54c2ef78-0ddf-4fba-b8e7-2eeed7914c4b",
   "metadata": {},
   "outputs": [
    {
     "data": {
      "text/html": [
       "<div>\n",
       "<style scoped>\n",
       "    .dataframe tbody tr th:only-of-type {\n",
       "        vertical-align: middle;\n",
       "    }\n",
       "\n",
       "    .dataframe tbody tr th {\n",
       "        vertical-align: top;\n",
       "    }\n",
       "\n",
       "    .dataframe thead th {\n",
       "        text-align: right;\n",
       "    }\n",
       "</style>\n",
       "<table border=\"1\" class=\"dataframe\">\n",
       "  <thead>\n",
       "    <tr style=\"text-align: right;\">\n",
       "      <th></th>\n",
       "      <th>Country</th>\n",
       "      <th>Continent</th>\n",
       "      <th>Debt</th>\n",
       "    </tr>\n",
       "  </thead>\n",
       "  <tbody>\n",
       "    <tr>\n",
       "      <th>42</th>\n",
       "      <td>Mexico</td>\n",
       "      <td>North America</td>\n",
       "      <td>2.942027e+10</td>\n",
       "    </tr>\n",
       "    <tr>\n",
       "      <th>11</th>\n",
       "      <td>China</td>\n",
       "      <td>Asia</td>\n",
       "      <td>1.105893e+10</td>\n",
       "    </tr>\n",
       "    <tr>\n",
       "      <th>64</th>\n",
       "      <td>Turkey</td>\n",
       "      <td>Asia</td>\n",
       "      <td>1.028588e+10</td>\n",
       "    </tr>\n",
       "    <tr>\n",
       "      <th>32</th>\n",
       "      <td>Indonesia</td>\n",
       "      <td>Asia</td>\n",
       "      <td>9.346819e+09</td>\n",
       "    </tr>\n",
       "    <tr>\n",
       "      <th>12</th>\n",
       "      <td>Colombia</td>\n",
       "      <td>South America</td>\n",
       "      <td>6.760927e+09</td>\n",
       "    </tr>\n",
       "  </tbody>\n",
       "</table>\n",
       "</div>"
      ],
      "text/plain": [
       "      Country      Continent          Debt\n",
       "42     Mexico  North America  2.942027e+10\n",
       "11      China           Asia  1.105893e+10\n",
       "64     Turkey           Asia  1.028588e+10\n",
       "32  Indonesia           Asia  9.346819e+09\n",
       "12   Colombia  South America  6.760927e+09"
      ]
     },
     "execution_count": 568,
     "metadata": {},
     "output_type": "execute_result"
    }
   ],
   "source": [
    "bond = (debt[debt['Indicator_code'].isin(['DT.AMT.PBND.CD', 'DT.INT.PBND.CD'])]\n",
    "              .groupby(['Country', 'Continent'])['Debt'].sum().reset_index().sort_values(by='Debt', ascending=False))\n",
    "bond.head(5)"
   ]
  },
  {
   "cell_type": "markdown",
   "id": "386a64ee-ae3c-462c-af42-aad02dc309ac",
   "metadata": {},
   "source": [
    "`Mexico` owes the most due to bonds at `29 billion`, closest country to `Mexico` is `China` in second place at `11 billion`"
   ]
  },
  {
   "cell_type": "code",
   "execution_count": 573,
   "id": "19692b06-bd62-4483-860b-fc4f0b4c7641",
   "metadata": {},
   "outputs": [
    {
     "data": {
      "text/html": [
       "<div>\n",
       "<style scoped>\n",
       "    .dataframe tbody tr th:only-of-type {\n",
       "        vertical-align: middle;\n",
       "    }\n",
       "\n",
       "    .dataframe tbody tr th {\n",
       "        vertical-align: top;\n",
       "    }\n",
       "\n",
       "    .dataframe thead th {\n",
       "        text-align: right;\n",
       "    }\n",
       "</style>\n",
       "<table border=\"1\" class=\"dataframe\">\n",
       "  <thead>\n",
       "    <tr style=\"text-align: right;\">\n",
       "      <th></th>\n",
       "      <th>Country</th>\n",
       "      <th>Continent</th>\n",
       "      <th>Debt</th>\n",
       "    </tr>\n",
       "  </thead>\n",
       "  <tbody>\n",
       "    <tr>\n",
       "      <th>60</th>\n",
       "      <td>St. Lucia</td>\n",
       "      <td>North America</td>\n",
       "      <td>285925.9</td>\n",
       "    </tr>\n",
       "    <tr>\n",
       "      <th>28</th>\n",
       "      <td>Guinea</td>\n",
       "      <td>Africa</td>\n",
       "      <td>644000.0</td>\n",
       "    </tr>\n",
       "    <tr>\n",
       "      <th>61</th>\n",
       "      <td>St. Vincent and the Grenadines</td>\n",
       "      <td>North America</td>\n",
       "      <td>1792994.1</td>\n",
       "    </tr>\n",
       "    <tr>\n",
       "      <th>16</th>\n",
       "      <td>Dominica</td>\n",
       "      <td>North America</td>\n",
       "      <td>1804071.4</td>\n",
       "    </tr>\n",
       "    <tr>\n",
       "      <th>13</th>\n",
       "      <td>Congo</td>\n",
       "      <td>Africa</td>\n",
       "      <td>8736000.0</td>\n",
       "    </tr>\n",
       "  </tbody>\n",
       "</table>\n",
       "</div>"
      ],
      "text/plain": [
       "                           Country      Continent       Debt\n",
       "60                       St. Lucia  North America   285925.9\n",
       "28                          Guinea         Africa   644000.0\n",
       "61  St. Vincent and the Grenadines  North America  1792994.1\n",
       "16                        Dominica  North America  1804071.4\n",
       "13                           Congo         Africa  8736000.0"
      ]
     },
     "execution_count": 573,
     "metadata": {},
     "output_type": "execute_result"
    }
   ],
   "source": [
    "bond = (debt[debt['Indicator_code'].isin(['DT.AMT.PBND.CD', 'DT.INT.PBND.CD'])]\n",
    "              .groupby(['Country', 'Continent'])['Debt'].sum().reset_index().sort_values(by='Debt', ascending=True))\n",
    "bond.head(5)"
   ]
  },
  {
   "cell_type": "markdown",
   "id": "568ab86d-e03a-408a-a2f3-2a9f0c40eeba",
   "metadata": {},
   "source": [
    "`St. Lucia` owes the least amount due to bonds at just `285,925`, followed by `Guinea` at `644,000`."
   ]
  },
  {
   "cell_type": "markdown",
   "id": "5e4677b6-3c88-4e1a-8666-3db70eb0907b",
   "metadata": {},
   "source": [
    "### Commercial Bank Loans"
   ]
  },
  {
   "cell_type": "code",
   "execution_count": 698,
   "id": "8b002662-90ca-4965-975f-3f5b79c8da01",
   "metadata": {},
   "outputs": [
    {
     "name": "stdout",
     "output_type": "stream",
     "text": [
      "76687539353.80002\n"
     ]
    }
   ],
   "source": [
    "CBL = (debt[debt['Indicator_code'].isin(['DT.AMT.PCBK.CD', 'DT.DIS.PCBK.CD'])]['Debt'].sum())\n",
    "print(CBL)"
   ]
  },
  {
   "cell_type": "markdown",
   "id": "c0c24599-a1ee-4677-8d86-a7962e3e5812",
   "metadata": {},
   "source": [
    "The total amount of debt owed due to commercial loans is `76 billion`"
   ]
  },
  {
   "cell_type": "markdown",
   "id": "620b3383-dee0-4cc1-937c-11460b3c8d7f",
   "metadata": {},
   "source": [
    "### By Continent"
   ]
  },
  {
   "cell_type": "code",
   "execution_count": 576,
   "id": "5b74c42f-0305-417d-bff8-fc53da0420f2",
   "metadata": {},
   "outputs": [
    {
     "data": {
      "text/html": [
       "<div>\n",
       "<style scoped>\n",
       "    .dataframe tbody tr th:only-of-type {\n",
       "        vertical-align: middle;\n",
       "    }\n",
       "\n",
       "    .dataframe tbody tr th {\n",
       "        vertical-align: top;\n",
       "    }\n",
       "\n",
       "    .dataframe thead th {\n",
       "        text-align: right;\n",
       "    }\n",
       "</style>\n",
       "<table border=\"1\" class=\"dataframe\">\n",
       "  <thead>\n",
       "    <tr style=\"text-align: right;\">\n",
       "      <th></th>\n",
       "      <th>Continent</th>\n",
       "      <th>Debt</th>\n",
       "    </tr>\n",
       "  </thead>\n",
       "  <tbody>\n",
       "    <tr>\n",
       "      <th>1</th>\n",
       "      <td>Asia</td>\n",
       "      <td>2.392611e+10</td>\n",
       "    </tr>\n",
       "    <tr>\n",
       "      <th>2</th>\n",
       "      <td>Europe</td>\n",
       "      <td>2.329268e+10</td>\n",
       "    </tr>\n",
       "    <tr>\n",
       "      <th>0</th>\n",
       "      <td>Africa</td>\n",
       "      <td>9.604562e+09</td>\n",
       "    </tr>\n",
       "    <tr>\n",
       "      <th>5</th>\n",
       "      <td>South America</td>\n",
       "      <td>9.098978e+09</td>\n",
       "    </tr>\n",
       "    <tr>\n",
       "      <th>6</th>\n",
       "      <td>Unspecified</td>\n",
       "      <td>8.296402e+09</td>\n",
       "    </tr>\n",
       "    <tr>\n",
       "      <th>3</th>\n",
       "      <td>North America</td>\n",
       "      <td>2.436130e+09</td>\n",
       "    </tr>\n",
       "    <tr>\n",
       "      <th>4</th>\n",
       "      <td>Oceania</td>\n",
       "      <td>3.267268e+07</td>\n",
       "    </tr>\n",
       "  </tbody>\n",
       "</table>\n",
       "</div>"
      ],
      "text/plain": [
       "       Continent          Debt\n",
       "1           Asia  2.392611e+10\n",
       "2         Europe  2.329268e+10\n",
       "0         Africa  9.604562e+09\n",
       "5  South America  9.098978e+09\n",
       "6    Unspecified  8.296402e+09\n",
       "3  North America  2.436130e+09\n",
       "4        Oceania  3.267268e+07"
      ]
     },
     "execution_count": 576,
     "metadata": {},
     "output_type": "execute_result"
    }
   ],
   "source": [
    "CBL = (debt[debt['Indicator_code'].isin(['DT.AMT.PCBK.CD', 'DT.DIS.PCBK.CD'])]\n",
    "              .groupby(['Continent'])['Debt'].sum().reset_index().sort_values(by='Debt', ascending=False))\n",
    "CBL.head(10)"
   ]
  },
  {
   "cell_type": "markdown",
   "id": "15e256cc-839e-4c43-8bbc-53dc55e88d06",
   "metadata": {},
   "source": [
    "`Asia` tops the list with `23.9 billion`, closely followd by `Europe` at `23.2 billion`"
   ]
  },
  {
   "cell_type": "markdown",
   "id": "4c397b9e-2519-4eff-8ecd-c84f76ffca51",
   "metadata": {},
   "source": [
    "### By Country"
   ]
  },
  {
   "cell_type": "code",
   "execution_count": 582,
   "id": "4e09834f-df94-4bfc-83f0-72e3266700f9",
   "metadata": {},
   "outputs": [
    {
     "data": {
      "text/html": [
       "<div>\n",
       "<style scoped>\n",
       "    .dataframe tbody tr th:only-of-type {\n",
       "        vertical-align: middle;\n",
       "    }\n",
       "\n",
       "    .dataframe tbody tr th {\n",
       "        vertical-align: top;\n",
       "    }\n",
       "\n",
       "    .dataframe thead th {\n",
       "        text-align: right;\n",
       "    }\n",
       "</style>\n",
       "<table border=\"1\" class=\"dataframe\">\n",
       "  <thead>\n",
       "    <tr style=\"text-align: right;\">\n",
       "      <th></th>\n",
       "      <th>Country</th>\n",
       "      <th>Continent</th>\n",
       "      <th>Debt</th>\n",
       "    </tr>\n",
       "  </thead>\n",
       "  <tbody>\n",
       "    <tr>\n",
       "      <th>66</th>\n",
       "      <td>Russian Federation</td>\n",
       "      <td>Europe</td>\n",
       "      <td>2.207740e+10</td>\n",
       "    </tr>\n",
       "    <tr>\n",
       "      <th>17</th>\n",
       "      <td>China</td>\n",
       "      <td>Asia</td>\n",
       "      <td>7.823294e+09</td>\n",
       "    </tr>\n",
       "    <tr>\n",
       "      <th>12</th>\n",
       "      <td>Brazil</td>\n",
       "      <td>South America</td>\n",
       "      <td>7.502985e+09</td>\n",
       "    </tr>\n",
       "    <tr>\n",
       "      <th>46</th>\n",
       "      <td>Least developed countries: UN classification</td>\n",
       "      <td>Unspecified</td>\n",
       "      <td>5.257926e+09</td>\n",
       "    </tr>\n",
       "    <tr>\n",
       "      <th>70</th>\n",
       "      <td>South Asia</td>\n",
       "      <td>Asia</td>\n",
       "      <td>5.224356e+09</td>\n",
       "    </tr>\n",
       "  </tbody>\n",
       "</table>\n",
       "</div>"
      ],
      "text/plain": [
       "                                         Country      Continent          Debt\n",
       "66                            Russian Federation         Europe  2.207740e+10\n",
       "17                                         China           Asia  7.823294e+09\n",
       "12                                        Brazil  South America  7.502985e+09\n",
       "46  Least developed countries: UN classification    Unspecified  5.257926e+09\n",
       "70                                    South Asia           Asia  5.224356e+09"
      ]
     },
     "execution_count": 582,
     "metadata": {},
     "output_type": "execute_result"
    }
   ],
   "source": [
    "CBL = (debt[debt['Indicator_code'].isin(['DT.AMT.PCBK.CD', 'DT.DIS.PCBK.CD'])]\n",
    "              .groupby(['Country', 'Continent'])['Debt'].sum().reset_index().sort_values(by='Debt', ascending=False))\n",
    "CBL.head(5)"
   ]
  },
  {
   "cell_type": "markdown",
   "id": "ffe27f5f-29c2-4a91-b02a-051b4a8fa0ed",
   "metadata": {},
   "source": [
    "`Russia` owes the most amount to commercial banks, with a figure standing at `22 billion`"
   ]
  },
  {
   "cell_type": "code",
   "execution_count": 589,
   "id": "dde8e8b5-8926-4bf5-b2b6-2795d8c1a283",
   "metadata": {},
   "outputs": [
    {
     "data": {
      "text/html": [
       "<div>\n",
       "<style scoped>\n",
       "    .dataframe tbody tr th:only-of-type {\n",
       "        vertical-align: middle;\n",
       "    }\n",
       "\n",
       "    .dataframe tbody tr th {\n",
       "        vertical-align: top;\n",
       "    }\n",
       "\n",
       "    .dataframe thead th {\n",
       "        text-align: right;\n",
       "    }\n",
       "</style>\n",
       "<table border=\"1\" class=\"dataframe\">\n",
       "  <thead>\n",
       "    <tr style=\"text-align: right;\">\n",
       "      <th></th>\n",
       "      <th>Country</th>\n",
       "      <th>Continent</th>\n",
       "      <th>Debt</th>\n",
       "    </tr>\n",
       "  </thead>\n",
       "  <tbody>\n",
       "    <tr>\n",
       "      <th>28</th>\n",
       "      <td>Eswatini</td>\n",
       "      <td>Africa</td>\n",
       "      <td>0.0</td>\n",
       "    </tr>\n",
       "    <tr>\n",
       "      <th>7</th>\n",
       "      <td>Belize</td>\n",
       "      <td>North America</td>\n",
       "      <td>0.0</td>\n",
       "    </tr>\n",
       "    <tr>\n",
       "      <th>74</th>\n",
       "      <td>Thailand</td>\n",
       "      <td>Asia</td>\n",
       "      <td>0.0</td>\n",
       "    </tr>\n",
       "    <tr>\n",
       "      <th>16</th>\n",
       "      <td>Chad</td>\n",
       "      <td>Africa</td>\n",
       "      <td>11033.6</td>\n",
       "    </tr>\n",
       "    <tr>\n",
       "      <th>76</th>\n",
       "      <td>Tonga</td>\n",
       "      <td>Oceania</td>\n",
       "      <td>24603.4</td>\n",
       "    </tr>\n",
       "  </tbody>\n",
       "</table>\n",
       "</div>"
      ],
      "text/plain": [
       "     Country      Continent     Debt\n",
       "28  Eswatini         Africa      0.0\n",
       "7     Belize  North America      0.0\n",
       "74  Thailand           Asia      0.0\n",
       "16      Chad         Africa  11033.6\n",
       "76     Tonga        Oceania  24603.4"
      ]
     },
     "execution_count": 589,
     "metadata": {},
     "output_type": "execute_result"
    }
   ],
   "source": [
    "CBL = (debt[debt['Indicator_code'].isin(['DT.AMT.PCBK.CD', 'DT.DIS.PCBK.CD'])]\n",
    "              .groupby(['Country', 'Continent'])['Debt'].sum().reset_index().sort_values(by='Debt', ascending=True))\n",
    "CBL.head(5)"
   ]
  },
  {
   "cell_type": "markdown",
   "id": "23d51ff1-c9d8-435e-9c2e-3ba35f3c29e4",
   "metadata": {},
   "source": [
    "`Eswatini`, `Belize` and `Thailand` all owe nothing to commercial banks, while `Chad` and `Tonga` owe approximately `11,000` and `25,000` respectively"
   ]
  },
  {
   "cell_type": "markdown",
   "id": "23b7c167-928b-4239-968e-6a134fcab61d",
   "metadata": {},
   "source": [
    "### Multilateral Loans"
   ]
  },
  {
   "cell_type": "code",
   "execution_count": 703,
   "id": "36444818-e137-40e1-9704-81b80cca45ac",
   "metadata": {},
   "outputs": [
    {
     "name": "stdout",
     "output_type": "stream",
     "text": [
      "178441562614.09998\n"
     ]
    }
   ],
   "source": [
    "mutilateral = (debt[debt['Indicator_code'].isin(['DT.AMT.MLAT.CD', 'DT.DIS.MLAT.CD', 'DT.INT.MLAT.CD'])]['Debt'].sum())\n",
    "print(mutilateral)"
   ]
  },
  {
   "cell_type": "markdown",
   "id": "2c1eb662-7ed5-44a7-ae81-a2d83f36d5c3",
   "metadata": {},
   "source": [
    "The total amount of debt owed due to multilateral loans is `178 billion`"
   ]
  },
  {
   "cell_type": "markdown",
   "id": "28c550e4-cdb8-4b62-92c1-5b366142f77d",
   "metadata": {},
   "source": [
    "### By Continent"
   ]
  },
  {
   "cell_type": "code",
   "execution_count": 598,
   "id": "705eefb4-e68e-4c3d-9867-46edecd8e9f5",
   "metadata": {},
   "outputs": [
    {
     "data": {
      "text/html": [
       "<div>\n",
       "<style scoped>\n",
       "    .dataframe tbody tr th:only-of-type {\n",
       "        vertical-align: middle;\n",
       "    }\n",
       "\n",
       "    .dataframe tbody tr th {\n",
       "        vertical-align: top;\n",
       "    }\n",
       "\n",
       "    .dataframe thead th {\n",
       "        text-align: right;\n",
       "    }\n",
       "</style>\n",
       "<table border=\"1\" class=\"dataframe\">\n",
       "  <thead>\n",
       "    <tr style=\"text-align: right;\">\n",
       "      <th></th>\n",
       "      <th>Continent</th>\n",
       "      <th>Debt</th>\n",
       "    </tr>\n",
       "  </thead>\n",
       "  <tbody>\n",
       "    <tr>\n",
       "      <th>1</th>\n",
       "      <td>Asia</td>\n",
       "      <td>7.462185e+10</td>\n",
       "    </tr>\n",
       "    <tr>\n",
       "      <th>6</th>\n",
       "      <td>Unspecified</td>\n",
       "      <td>4.243587e+10</td>\n",
       "    </tr>\n",
       "    <tr>\n",
       "      <th>0</th>\n",
       "      <td>Africa</td>\n",
       "      <td>3.032655e+10</td>\n",
       "    </tr>\n",
       "    <tr>\n",
       "      <th>5</th>\n",
       "      <td>South America</td>\n",
       "      <td>1.389015e+10</td>\n",
       "    </tr>\n",
       "    <tr>\n",
       "      <th>2</th>\n",
       "      <td>Europe</td>\n",
       "      <td>1.004357e+10</td>\n",
       "    </tr>\n",
       "    <tr>\n",
       "      <th>3</th>\n",
       "      <td>North America</td>\n",
       "      <td>6.551342e+09</td>\n",
       "    </tr>\n",
       "    <tr>\n",
       "      <th>4</th>\n",
       "      <td>Oceania</td>\n",
       "      <td>5.722280e+08</td>\n",
       "    </tr>\n",
       "  </tbody>\n",
       "</table>\n",
       "</div>"
      ],
      "text/plain": [
       "       Continent          Debt\n",
       "1           Asia  7.462185e+10\n",
       "6    Unspecified  4.243587e+10\n",
       "0         Africa  3.032655e+10\n",
       "5  South America  1.389015e+10\n",
       "2         Europe  1.004357e+10\n",
       "3  North America  6.551342e+09\n",
       "4        Oceania  5.722280e+08"
      ]
     },
     "execution_count": 598,
     "metadata": {},
     "output_type": "execute_result"
    }
   ],
   "source": [
    "mutilateral = (debt[debt['Indicator_code'].isin(['DT.AMT.MLAT.CD', 'DT.DIS.MLAT.CD', 'DT.INT.MLAT.CD'])]\n",
    "              .groupby(['Continent'])['Debt'].sum().reset_index().sort_values(by='Debt', ascending=False))\n",
    "mutilateral.head(10)"
   ]
  },
  {
   "cell_type": "markdown",
   "id": "a558887d-b15a-4a2d-85c5-3de0e4030831",
   "metadata": {},
   "source": [
    "`Asia` holds the largest amount of multilateral debt, with a figure standing at `74 billion`. `Oceania` owes the lowest amount, standing at `572 million`"
   ]
  },
  {
   "cell_type": "markdown",
   "id": "b4564e46-700a-4064-a1c5-fdab978db469",
   "metadata": {},
   "source": [
    "### By Country"
   ]
  },
  {
   "cell_type": "code",
   "execution_count": 603,
   "id": "6a1040f6-0f4c-4893-a938-cf8ea9b7f96f",
   "metadata": {},
   "outputs": [
    {
     "data": {
      "text/html": [
       "<div>\n",
       "<style scoped>\n",
       "    .dataframe tbody tr th:only-of-type {\n",
       "        vertical-align: middle;\n",
       "    }\n",
       "\n",
       "    .dataframe tbody tr th {\n",
       "        vertical-align: top;\n",
       "    }\n",
       "\n",
       "    .dataframe thead th {\n",
       "        text-align: right;\n",
       "    }\n",
       "</style>\n",
       "<table border=\"1\" class=\"dataframe\">\n",
       "  <thead>\n",
       "    <tr style=\"text-align: right;\">\n",
       "      <th></th>\n",
       "      <th>Country</th>\n",
       "      <th>Continent</th>\n",
       "      <th>Debt</th>\n",
       "    </tr>\n",
       "  </thead>\n",
       "  <tbody>\n",
       "    <tr>\n",
       "      <th>51</th>\n",
       "      <td>IDA</td>\n",
       "      <td>Unspecified</td>\n",
       "      <td>2.301490e+10</td>\n",
       "    </tr>\n",
       "    <tr>\n",
       "      <th>100</th>\n",
       "      <td>South Asia</td>\n",
       "      <td>Asia</td>\n",
       "      <td>2.148996e+10</td>\n",
       "    </tr>\n",
       "    <tr>\n",
       "      <th>62</th>\n",
       "      <td>Least developed countries: UN classification</td>\n",
       "      <td>Unspecified</td>\n",
       "      <td>1.942096e+10</td>\n",
       "    </tr>\n",
       "    <tr>\n",
       "      <th>52</th>\n",
       "      <td>India</td>\n",
       "      <td>Asia</td>\n",
       "      <td>1.074128e+10</td>\n",
       "    </tr>\n",
       "    <tr>\n",
       "      <th>23</th>\n",
       "      <td>China</td>\n",
       "      <td>Asia</td>\n",
       "      <td>6.553632e+09</td>\n",
       "    </tr>\n",
       "  </tbody>\n",
       "</table>\n",
       "</div>"
      ],
      "text/plain": [
       "                                          Country    Continent          Debt\n",
       "51                                            IDA  Unspecified  2.301490e+10\n",
       "100                                    South Asia         Asia  2.148996e+10\n",
       "62   Least developed countries: UN classification  Unspecified  1.942096e+10\n",
       "52                                          India         Asia  1.074128e+10\n",
       "23                                          China         Asia  6.553632e+09"
      ]
     },
     "execution_count": 603,
     "metadata": {},
     "output_type": "execute_result"
    }
   ],
   "source": [
    "mutilateral = (debt[debt['Indicator_code'].isin(['DT.AMT.MLAT.CD', 'DT.DIS.MLAT.CD', 'DT.INT.MLAT.CD'])]\n",
    "              .groupby(['Country', 'Continent'])['Debt'].sum().reset_index().sort_values(by='Debt', ascending=False))\n",
    "mutilateral.head(5)"
   ]
  },
  {
   "cell_type": "markdown",
   "id": "70c808c2-db58-4956-9d13-049eda631d56",
   "metadata": {},
   "source": [
    "Ambiguity aside, `India` owes the most amount of multilateral debt, with a figure amounting to `23 billion`"
   ]
  },
  {
   "cell_type": "code",
   "execution_count": 606,
   "id": "651daf50-a981-42be-9f51-e02bd40fda2d",
   "metadata": {},
   "outputs": [
    {
     "data": {
      "text/html": [
       "<div>\n",
       "<style scoped>\n",
       "    .dataframe tbody tr th:only-of-type {\n",
       "        vertical-align: middle;\n",
       "    }\n",
       "\n",
       "    .dataframe tbody tr th {\n",
       "        vertical-align: top;\n",
       "    }\n",
       "\n",
       "    .dataframe thead th {\n",
       "        text-align: right;\n",
       "    }\n",
       "</style>\n",
       "<table border=\"1\" class=\"dataframe\">\n",
       "  <thead>\n",
       "    <tr style=\"text-align: right;\">\n",
       "      <th></th>\n",
       "      <th>Country</th>\n",
       "      <th>Continent</th>\n",
       "      <th>Debt</th>\n",
       "    </tr>\n",
       "  </thead>\n",
       "  <tbody>\n",
       "    <tr>\n",
       "      <th>25</th>\n",
       "      <td>Comoros</td>\n",
       "      <td>Africa</td>\n",
       "      <td>7303720.5</td>\n",
       "    </tr>\n",
       "    <tr>\n",
       "      <th>114</th>\n",
       "      <td>Turkmenistan</td>\n",
       "      <td>Asia</td>\n",
       "      <td>7980189.2</td>\n",
       "    </tr>\n",
       "    <tr>\n",
       "      <th>2</th>\n",
       "      <td>Algeria</td>\n",
       "      <td>Africa</td>\n",
       "      <td>8094779.0</td>\n",
       "    </tr>\n",
       "    <tr>\n",
       "      <th>111</th>\n",
       "      <td>Tonga</td>\n",
       "      <td>Oceania</td>\n",
       "      <td>9265073.2</td>\n",
       "    </tr>\n",
       "    <tr>\n",
       "      <th>93</th>\n",
       "      <td>Sao Tome and Principe</td>\n",
       "      <td>Africa</td>\n",
       "      <td>13605715.7</td>\n",
       "    </tr>\n",
       "  </tbody>\n",
       "</table>\n",
       "</div>"
      ],
      "text/plain": [
       "                   Country Continent        Debt\n",
       "25                 Comoros    Africa   7303720.5\n",
       "114           Turkmenistan      Asia   7980189.2\n",
       "2                  Algeria    Africa   8094779.0\n",
       "111                  Tonga   Oceania   9265073.2\n",
       "93   Sao Tome and Principe    Africa  13605715.7"
      ]
     },
     "execution_count": 606,
     "metadata": {},
     "output_type": "execute_result"
    }
   ],
   "source": [
    "mutilateral = (debt[debt['Indicator_code'].isin(['DT.AMT.MLAT.CD', 'DT.DIS.MLAT.CD', 'DT.INT.MLAT.CD'])]\n",
    "              .groupby(['Country', 'Continent'])['Debt'].sum().reset_index().sort_values(by='Debt', ascending=True))\n",
    "mutilateral.head(5)"
   ]
  },
  {
   "cell_type": "markdown",
   "id": "b55e58ed-af67-491f-9767-9342beb9104b",
   "metadata": {},
   "source": [
    "`Comoros` holds the least amount of multilateral debt, at `7.3 million`"
   ]
  },
  {
   "cell_type": "markdown",
   "id": "dfc00c80-8fb4-4e43-93a3-7b99346d443e",
   "metadata": {},
   "source": [
    "### Official Creditors"
   ]
  },
  {
   "cell_type": "code",
   "execution_count": 706,
   "id": "fb6b9e95-8f1d-40d0-a180-698f119dde6c",
   "metadata": {},
   "outputs": [
    {
     "name": "stdout",
     "output_type": "stream",
     "text": [
      "423615278701.9\n"
     ]
    }
   ],
   "source": [
    "OFC = (debt[debt['Indicator_code'].isin(['DT.AMT.OFFT.CD', 'DT.DIS.OFFT.CD', 'DT.INT.OFFT.CD'])]['Debt'].sum())\n",
    "print(OFC)"
   ]
  },
  {
   "cell_type": "markdown",
   "id": "96ded7c1-f5de-4a47-9c14-a75c35e32b44",
   "metadata": {},
   "source": [
    "The total amount of debt owed due to Official Creditors loans is `423 billion`"
   ]
  },
  {
   "cell_type": "markdown",
   "id": "b9033080-a931-42fe-b6fa-576832343ef3",
   "metadata": {},
   "source": [
    "### By Continent"
   ]
  },
  {
   "cell_type": "code",
   "execution_count": 613,
   "id": "d8e319f6-3a40-4b52-b9a4-b0a67e5e7d60",
   "metadata": {},
   "outputs": [
    {
     "data": {
      "text/html": [
       "<div>\n",
       "<style scoped>\n",
       "    .dataframe tbody tr th:only-of-type {\n",
       "        vertical-align: middle;\n",
       "    }\n",
       "\n",
       "    .dataframe tbody tr th {\n",
       "        vertical-align: top;\n",
       "    }\n",
       "\n",
       "    .dataframe thead th {\n",
       "        text-align: right;\n",
       "    }\n",
       "</style>\n",
       "<table border=\"1\" class=\"dataframe\">\n",
       "  <thead>\n",
       "    <tr style=\"text-align: right;\">\n",
       "      <th></th>\n",
       "      <th>Continent</th>\n",
       "      <th>Debt</th>\n",
       "    </tr>\n",
       "  </thead>\n",
       "  <tbody>\n",
       "    <tr>\n",
       "      <th>1</th>\n",
       "      <td>Asia</td>\n",
       "      <td>1.582740e+11</td>\n",
       "    </tr>\n",
       "    <tr>\n",
       "      <th>0</th>\n",
       "      <td>Africa</td>\n",
       "      <td>1.099294e+11</td>\n",
       "    </tr>\n",
       "    <tr>\n",
       "      <th>6</th>\n",
       "      <td>Unspecified</td>\n",
       "      <td>1.072521e+11</td>\n",
       "    </tr>\n",
       "    <tr>\n",
       "      <th>5</th>\n",
       "      <td>South America</td>\n",
       "      <td>2.155461e+10</td>\n",
       "    </tr>\n",
       "    <tr>\n",
       "      <th>2</th>\n",
       "      <td>Europe</td>\n",
       "      <td>1.702175e+10</td>\n",
       "    </tr>\n",
       "    <tr>\n",
       "      <th>3</th>\n",
       "      <td>North America</td>\n",
       "      <td>8.590663e+09</td>\n",
       "    </tr>\n",
       "    <tr>\n",
       "      <th>4</th>\n",
       "      <td>Oceania</td>\n",
       "      <td>9.927152e+08</td>\n",
       "    </tr>\n",
       "  </tbody>\n",
       "</table>\n",
       "</div>"
      ],
      "text/plain": [
       "       Continent          Debt\n",
       "1           Asia  1.582740e+11\n",
       "0         Africa  1.099294e+11\n",
       "6    Unspecified  1.072521e+11\n",
       "5  South America  2.155461e+10\n",
       "2         Europe  1.702175e+10\n",
       "3  North America  8.590663e+09\n",
       "4        Oceania  9.927152e+08"
      ]
     },
     "execution_count": 613,
     "metadata": {},
     "output_type": "execute_result"
    }
   ],
   "source": [
    "OFC = (debt[debt['Indicator_code'].isin(['DT.AMT.OFFT.CD', 'DT.DIS.OFFT.CD', 'DT.INT.OFFT.CD'])]\n",
    "              .groupby(['Continent'])['Debt'].sum().reset_index().sort_values(by='Debt', ascending=False))\n",
    "OFC.head(10)"
   ]
  },
  {
   "cell_type": "markdown",
   "id": "a73e8e01-6c5f-4b6e-aa2b-26e089d69353",
   "metadata": {},
   "source": [
    "`Asia` owes the most amount of offcial creditors debt at `158 billion`. `Oceania` owes the least, at `992 million`"
   ]
  },
  {
   "cell_type": "markdown",
   "id": "3eeb55e8-4b49-4919-b5a0-347991f689e8",
   "metadata": {},
   "source": [
    "### By Country"
   ]
  },
  {
   "cell_type": "code",
   "execution_count": 623,
   "id": "fba78272-5263-49c8-a55d-332cce064668",
   "metadata": {},
   "outputs": [
    {
     "data": {
      "text/html": [
       "<div>\n",
       "<style scoped>\n",
       "    .dataframe tbody tr th:only-of-type {\n",
       "        vertical-align: middle;\n",
       "    }\n",
       "\n",
       "    .dataframe tbody tr th {\n",
       "        vertical-align: top;\n",
       "    }\n",
       "\n",
       "    .dataframe thead th {\n",
       "        text-align: right;\n",
       "    }\n",
       "</style>\n",
       "<table border=\"1\" class=\"dataframe\">\n",
       "  <thead>\n",
       "    <tr style=\"text-align: right;\">\n",
       "      <th></th>\n",
       "      <th>Country</th>\n",
       "      <th>Continent</th>\n",
       "      <th>Debt</th>\n",
       "    </tr>\n",
       "  </thead>\n",
       "  <tbody>\n",
       "    <tr>\n",
       "      <th>62</th>\n",
       "      <td>Least developed countries: UN classification</td>\n",
       "      <td>Unspecified</td>\n",
       "      <td>5.872945e+10</td>\n",
       "    </tr>\n",
       "    <tr>\n",
       "      <th>51</th>\n",
       "      <td>IDA</td>\n",
       "      <td>Unspecified</td>\n",
       "      <td>4.852266e+10</td>\n",
       "    </tr>\n",
       "    <tr>\n",
       "      <th>100</th>\n",
       "      <td>South Asia</td>\n",
       "      <td>Asia</td>\n",
       "      <td>4.720179e+10</td>\n",
       "    </tr>\n",
       "    <tr>\n",
       "      <th>20</th>\n",
       "      <td>Cameroon</td>\n",
       "      <td>Africa</td>\n",
       "      <td>2.825860e+10</td>\n",
       "    </tr>\n",
       "    <tr>\n",
       "      <th>34</th>\n",
       "      <td>Egypt</td>\n",
       "      <td>Africa</td>\n",
       "      <td>1.951404e+10</td>\n",
       "    </tr>\n",
       "  </tbody>\n",
       "</table>\n",
       "</div>"
      ],
      "text/plain": [
       "                                          Country    Continent          Debt\n",
       "62   Least developed countries: UN classification  Unspecified  5.872945e+10\n",
       "51                                            IDA  Unspecified  4.852266e+10\n",
       "100                                    South Asia         Asia  4.720179e+10\n",
       "20                                       Cameroon       Africa  2.825860e+10\n",
       "34                                          Egypt       Africa  1.951404e+10"
      ]
     },
     "execution_count": 623,
     "metadata": {},
     "output_type": "execute_result"
    }
   ],
   "source": [
    "OFC = (debt[debt['Indicator_code'].isin(['DT.AMT.OFFT.CD', 'DT.DIS.OFFT.CD', 'DT.INT.OFFT.CD'])]\n",
    "              .groupby(['Country', 'Continent'])['Debt'].sum().reset_index().sort_values(by='Debt', ascending=False))\n",
    "OFC.head(5)"
   ]
  },
  {
   "cell_type": "markdown",
   "id": "245b5196-693d-45b5-bb86-6796b4a03927",
   "metadata": {},
   "source": [
    "`Cameroon` owes the largest amount of Official Creditors debt, at `28 billion`, followed by `Egypt` at `19 billion`"
   ]
  },
  {
   "cell_type": "code",
   "execution_count": 625,
   "id": "a4dab8d8-5a01-421d-8790-b0716acc316d",
   "metadata": {},
   "outputs": [
    {
     "data": {
      "text/html": [
       "<div>\n",
       "<style scoped>\n",
       "    .dataframe tbody tr th:only-of-type {\n",
       "        vertical-align: middle;\n",
       "    }\n",
       "\n",
       "    .dataframe tbody tr th {\n",
       "        vertical-align: top;\n",
       "    }\n",
       "\n",
       "    .dataframe thead th {\n",
       "        text-align: right;\n",
       "    }\n",
       "</style>\n",
       "<table border=\"1\" class=\"dataframe\">\n",
       "  <thead>\n",
       "    <tr style=\"text-align: right;\">\n",
       "      <th></th>\n",
       "      <th>Country</th>\n",
       "      <th>Continent</th>\n",
       "      <th>Debt</th>\n",
       "    </tr>\n",
       "  </thead>\n",
       "  <tbody>\n",
       "    <tr>\n",
       "      <th>93</th>\n",
       "      <td>Sao Tome and Principe</td>\n",
       "      <td>Africa</td>\n",
       "      <td>14932677.5</td>\n",
       "    </tr>\n",
       "    <tr>\n",
       "      <th>97</th>\n",
       "      <td>Solomon Islands</td>\n",
       "      <td>Oceania</td>\n",
       "      <td>15494489.1</td>\n",
       "    </tr>\n",
       "    <tr>\n",
       "      <th>111</th>\n",
       "      <td>Tonga</td>\n",
       "      <td>Oceania</td>\n",
       "      <td>18378498.2</td>\n",
       "    </tr>\n",
       "    <tr>\n",
       "      <th>25</th>\n",
       "      <td>Comoros</td>\n",
       "      <td>Africa</td>\n",
       "      <td>19189494.4</td>\n",
       "    </tr>\n",
       "    <tr>\n",
       "      <th>109</th>\n",
       "      <td>Timor-Leste</td>\n",
       "      <td>Asia</td>\n",
       "      <td>23666986.4</td>\n",
       "    </tr>\n",
       "  </tbody>\n",
       "</table>\n",
       "</div>"
      ],
      "text/plain": [
       "                   Country Continent        Debt\n",
       "93   Sao Tome and Principe    Africa  14932677.5\n",
       "97         Solomon Islands   Oceania  15494489.1\n",
       "111                  Tonga   Oceania  18378498.2\n",
       "25                 Comoros    Africa  19189494.4\n",
       "109            Timor-Leste      Asia  23666986.4"
      ]
     },
     "execution_count": 625,
     "metadata": {},
     "output_type": "execute_result"
    }
   ],
   "source": [
    "OFC = (debt[debt['Indicator_code'].isin(['DT.AMT.OFFT.CD', 'DT.DIS.OFFT.CD', 'DT.INT.OFFT.CD'])]\n",
    "              .groupby(['Country', 'Continent'])['Debt'].sum().reset_index().sort_values(by='Debt', ascending=True))\n",
    "OFC.head(5)"
   ]
  },
  {
   "cell_type": "markdown",
   "id": "29c90dcc-83a2-4118-a8d7-f875475bebb6",
   "metadata": {},
   "source": [
    "`Sao Tome and Principe` owes the least amount of Official Creditors debt, at `149 million`."
   ]
  },
  {
   "cell_type": "markdown",
   "id": "ee2cf38c-172c-4eda-8617-c50df81ac45d",
   "metadata": {},
   "source": [
    "### Private Creditors"
   ]
  },
  {
   "cell_type": "code",
   "execution_count": 710,
   "id": "45e709fc-12bf-4fc8-b67e-d3d7844ea92d",
   "metadata": {},
   "outputs": [
    {
     "name": "stdout",
     "output_type": "stream",
     "text": [
      "263796692669.7\n"
     ]
    }
   ],
   "source": [
    "PVC = (debt[debt['Indicator_code'].isin(['DT.AMT.PRVT.CD', 'DT.DIS.PRVT.CD', 'DT.INT.PRVT.CD'])]['Debt'].sum())\n",
    "print(PVC)"
   ]
  },
  {
   "cell_type": "markdown",
   "id": "cbf9b4ff-c442-4a00-8c1e-1fdf0f33aa9c",
   "metadata": {},
   "source": [
    "The total amount of debt owed due to multilateral loans is `263 billion`"
   ]
  },
  {
   "cell_type": "markdown",
   "id": "3b0d93b0-1702-48bd-8611-ef816972a0b2",
   "metadata": {},
   "source": [
    "### By Continent"
   ]
  },
  {
   "cell_type": "code",
   "execution_count": 629,
   "id": "9af0c4c3-3860-47fb-b04e-ba49e8b2db2f",
   "metadata": {},
   "outputs": [
    {
     "data": {
      "text/html": [
       "<div>\n",
       "<style scoped>\n",
       "    .dataframe tbody tr th:only-of-type {\n",
       "        vertical-align: middle;\n",
       "    }\n",
       "\n",
       "    .dataframe tbody tr th {\n",
       "        vertical-align: top;\n",
       "    }\n",
       "\n",
       "    .dataframe thead th {\n",
       "        text-align: right;\n",
       "    }\n",
       "</style>\n",
       "<table border=\"1\" class=\"dataframe\">\n",
       "  <thead>\n",
       "    <tr style=\"text-align: right;\">\n",
       "      <th></th>\n",
       "      <th>Continent</th>\n",
       "      <th>Debt</th>\n",
       "    </tr>\n",
       "  </thead>\n",
       "  <tbody>\n",
       "    <tr>\n",
       "      <th>1</th>\n",
       "      <td>Asia</td>\n",
       "      <td>8.315658e+10</td>\n",
       "    </tr>\n",
       "    <tr>\n",
       "      <th>5</th>\n",
       "      <td>South America</td>\n",
       "      <td>6.648863e+10</td>\n",
       "    </tr>\n",
       "    <tr>\n",
       "      <th>2</th>\n",
       "      <td>Europe</td>\n",
       "      <td>3.850042e+10</td>\n",
       "    </tr>\n",
       "    <tr>\n",
       "      <th>3</th>\n",
       "      <td>North America</td>\n",
       "      <td>3.644645e+10</td>\n",
       "    </tr>\n",
       "    <tr>\n",
       "      <th>0</th>\n",
       "      <td>Africa</td>\n",
       "      <td>2.381586e+10</td>\n",
       "    </tr>\n",
       "    <tr>\n",
       "      <th>6</th>\n",
       "      <td>Unspecified</td>\n",
       "      <td>1.531828e+10</td>\n",
       "    </tr>\n",
       "    <tr>\n",
       "      <th>4</th>\n",
       "      <td>Oceania</td>\n",
       "      <td>7.046728e+07</td>\n",
       "    </tr>\n",
       "  </tbody>\n",
       "</table>\n",
       "</div>"
      ],
      "text/plain": [
       "       Continent          Debt\n",
       "1           Asia  8.315658e+10\n",
       "5  South America  6.648863e+10\n",
       "2         Europe  3.850042e+10\n",
       "3  North America  3.644645e+10\n",
       "0         Africa  2.381586e+10\n",
       "6    Unspecified  1.531828e+10\n",
       "4        Oceania  7.046728e+07"
      ]
     },
     "execution_count": 629,
     "metadata": {},
     "output_type": "execute_result"
    }
   ],
   "source": [
    "PVC = (debt[debt['Indicator_code'].isin(['DT.AMT.PRVT.CD', 'DT.DIS.PRVT.CD', 'DT.INT.PRVT.CD'])]\n",
    "              .groupby(['Continent'])['Debt'].sum().reset_index().sort_values(by='Debt', ascending=False))\n",
    "PVC.head(10)"
   ]
  },
  {
   "cell_type": "markdown",
   "id": "2636a371-8a7f-4cbe-8fbc-948c38c3710b",
   "metadata": {},
   "source": [
    "`Asia` owes the most amount due to private creditors debt at `83 billion`. `Oceania` owe the least, at `70 million`"
   ]
  },
  {
   "cell_type": "markdown",
   "id": "d87eed72-3844-4134-bf8e-c6e33ab0dbc3",
   "metadata": {},
   "source": [
    "### By Country"
   ]
  },
  {
   "cell_type": "code",
   "execution_count": 631,
   "id": "b955f350-172e-4855-9b40-010f085eb155",
   "metadata": {},
   "outputs": [
    {
     "data": {
      "text/html": [
       "<div>\n",
       "<style scoped>\n",
       "    .dataframe tbody tr th:only-of-type {\n",
       "        vertical-align: middle;\n",
       "    }\n",
       "\n",
       "    .dataframe tbody tr th {\n",
       "        vertical-align: top;\n",
       "    }\n",
       "\n",
       "    .dataframe thead th {\n",
       "        text-align: right;\n",
       "    }\n",
       "</style>\n",
       "<table border=\"1\" class=\"dataframe\">\n",
       "  <thead>\n",
       "    <tr style=\"text-align: right;\">\n",
       "      <th></th>\n",
       "      <th>Country</th>\n",
       "      <th>Continent</th>\n",
       "      <th>Debt</th>\n",
       "    </tr>\n",
       "  </thead>\n",
       "  <tbody>\n",
       "    <tr>\n",
       "      <th>13</th>\n",
       "      <td>Brazil</td>\n",
       "      <td>South America</td>\n",
       "      <td>4.957300e+10</td>\n",
       "    </tr>\n",
       "    <tr>\n",
       "      <th>62</th>\n",
       "      <td>Mexico</td>\n",
       "      <td>North America</td>\n",
       "      <td>3.176416e+10</td>\n",
       "    </tr>\n",
       "    <tr>\n",
       "      <th>77</th>\n",
       "      <td>Russian Federation</td>\n",
       "      <td>Europe</td>\n",
       "      <td>2.991993e+10</td>\n",
       "    </tr>\n",
       "    <tr>\n",
       "      <th>19</th>\n",
       "      <td>China</td>\n",
       "      <td>Asia</td>\n",
       "      <td>2.113905e+10</td>\n",
       "    </tr>\n",
       "    <tr>\n",
       "      <th>46</th>\n",
       "      <td>Indonesia</td>\n",
       "      <td>Asia</td>\n",
       "      <td>1.262385e+10</td>\n",
       "    </tr>\n",
       "  </tbody>\n",
       "</table>\n",
       "</div>"
      ],
      "text/plain": [
       "               Country      Continent          Debt\n",
       "13              Brazil  South America  4.957300e+10\n",
       "62              Mexico  North America  3.176416e+10\n",
       "77  Russian Federation         Europe  2.991993e+10\n",
       "19               China           Asia  2.113905e+10\n",
       "46           Indonesia           Asia  1.262385e+10"
      ]
     },
     "execution_count": 631,
     "metadata": {},
     "output_type": "execute_result"
    }
   ],
   "source": [
    "PVC = (debt[debt['Indicator_code'].isin(['DT.AMT.PRVT.CD', 'DT.DIS.PRVT.CD', 'DT.INT.PRVT.CD'])]\n",
    "              .groupby(['Country', 'Continent'])['Debt'].sum().reset_index().sort_values(by='Debt', ascending=False))\n",
    "PVC.head(5)"
   ]
  },
  {
   "cell_type": "markdown",
   "id": "16fb149a-d6d2-40fc-80af-7c36f7d37132",
   "metadata": {},
   "source": [
    "`Brazil` owes the most amount at `49 billion`, followed by `Mexico` at `31 billion`"
   ]
  },
  {
   "cell_type": "code",
   "execution_count": 633,
   "id": "5b0250bd-7467-4974-8987-842986ad8994",
   "metadata": {},
   "outputs": [
    {
     "data": {
      "text/html": [
       "<div>\n",
       "<style scoped>\n",
       "    .dataframe tbody tr th:only-of-type {\n",
       "        vertical-align: middle;\n",
       "    }\n",
       "\n",
       "    .dataframe tbody tr th {\n",
       "        vertical-align: top;\n",
       "    }\n",
       "\n",
       "    .dataframe thead th {\n",
       "        text-align: right;\n",
       "    }\n",
       "</style>\n",
       "<table border=\"1\" class=\"dataframe\">\n",
       "  <thead>\n",
       "    <tr style=\"text-align: right;\">\n",
       "      <th></th>\n",
       "      <th>Country</th>\n",
       "      <th>Continent</th>\n",
       "      <th>Debt</th>\n",
       "    </tr>\n",
       "  </thead>\n",
       "  <tbody>\n",
       "    <tr>\n",
       "      <th>89</th>\n",
       "      <td>Tonga</td>\n",
       "      <td>Oceania</td>\n",
       "      <td>24603.4</td>\n",
       "    </tr>\n",
       "    <tr>\n",
       "      <th>60</th>\n",
       "      <td>Mali</td>\n",
       "      <td>Africa</td>\n",
       "      <td>68120.2</td>\n",
       "    </tr>\n",
       "    <tr>\n",
       "      <th>25</th>\n",
       "      <td>Djibouti</td>\n",
       "      <td>Africa</td>\n",
       "      <td>138000.0</td>\n",
       "    </tr>\n",
       "    <tr>\n",
       "      <th>31</th>\n",
       "      <td>Eritrea</td>\n",
       "      <td>Africa</td>\n",
       "      <td>170300.6</td>\n",
       "    </tr>\n",
       "    <tr>\n",
       "      <th>56</th>\n",
       "      <td>Lesotho</td>\n",
       "      <td>Africa</td>\n",
       "      <td>237679.5</td>\n",
       "    </tr>\n",
       "  </tbody>\n",
       "</table>\n",
       "</div>"
      ],
      "text/plain": [
       "     Country Continent      Debt\n",
       "89     Tonga   Oceania   24603.4\n",
       "60      Mali    Africa   68120.2\n",
       "25  Djibouti    Africa  138000.0\n",
       "31   Eritrea    Africa  170300.6\n",
       "56   Lesotho    Africa  237679.5"
      ]
     },
     "execution_count": 633,
     "metadata": {},
     "output_type": "execute_result"
    }
   ],
   "source": [
    "PVC = (debt[debt['Indicator_code'].isin(['DT.AMT.PRVT.CD', 'DT.DIS.PRVT.CD', 'DT.INT.PRVT.CD'])]\n",
    "              .groupby(['Country', 'Continent'])['Debt'].sum().reset_index().sort_values(by='Debt', ascending=True))\n",
    "PVC.head(5)"
   ]
  },
  {
   "cell_type": "markdown",
   "id": "1454814d-28e3-402a-bba5-9b18e75bf247",
   "metadata": {},
   "source": [
    "`Tonga` owes the least amount at `24,000`"
   ]
  },
  {
   "cell_type": "markdown",
   "id": "29eab776-2398-49d8-bd10-e79273ed1a2a",
   "metadata": {},
   "source": [
    "### Other Private Creditors"
   ]
  },
  {
   "cell_type": "code",
   "execution_count": 713,
   "id": "8e05a964-ffbe-4729-9568-0b9b6f4eb244",
   "metadata": {},
   "outputs": [
    {
     "name": "stdout",
     "output_type": "stream",
     "text": [
      "43723098445.799995\n"
     ]
    }
   ],
   "source": [
    "OPC = (debt[debt['Indicator_code'].isin(['DT.AMT.PROP.CD', 'DT.DIS.PROP.CD', 'DT.INT.PROP.CD'])]['Debt'].sum())\n",
    "print(OPC)"
   ]
  },
  {
   "cell_type": "markdown",
   "id": "dfa3498d-e399-4ac5-99e2-c6d43cd474c9",
   "metadata": {},
   "source": [
    "The total amount of debt owed due to Official Private Creditor loans is `43 billion`"
   ]
  },
  {
   "cell_type": "markdown",
   "id": "000a045d-4179-47a0-ab7d-3abcd6fd613a",
   "metadata": {},
   "source": [
    "### By Continent"
   ]
  },
  {
   "cell_type": "code",
   "execution_count": 640,
   "id": "da406ef2-2509-42df-a63a-ad27161f72b8",
   "metadata": {},
   "outputs": [
    {
     "data": {
      "text/html": [
       "<div>\n",
       "<style scoped>\n",
       "    .dataframe tbody tr th:only-of-type {\n",
       "        vertical-align: middle;\n",
       "    }\n",
       "\n",
       "    .dataframe tbody tr th {\n",
       "        vertical-align: top;\n",
       "    }\n",
       "\n",
       "    .dataframe thead th {\n",
       "        text-align: right;\n",
       "    }\n",
       "</style>\n",
       "<table border=\"1\" class=\"dataframe\">\n",
       "  <thead>\n",
       "    <tr style=\"text-align: right;\">\n",
       "      <th></th>\n",
       "      <th>Continent</th>\n",
       "      <th>Debt</th>\n",
       "    </tr>\n",
       "  </thead>\n",
       "  <tbody>\n",
       "    <tr>\n",
       "      <th>4</th>\n",
       "      <td>South America</td>\n",
       "      <td>3.588607e+10</td>\n",
       "    </tr>\n",
       "    <tr>\n",
       "      <th>1</th>\n",
       "      <td>Asia</td>\n",
       "      <td>3.640828e+09</td>\n",
       "    </tr>\n",
       "    <tr>\n",
       "      <th>5</th>\n",
       "      <td>Unspecified</td>\n",
       "      <td>2.165012e+09</td>\n",
       "    </tr>\n",
       "    <tr>\n",
       "      <th>0</th>\n",
       "      <td>Africa</td>\n",
       "      <td>1.552919e+09</td>\n",
       "    </tr>\n",
       "    <tr>\n",
       "      <th>2</th>\n",
       "      <td>Europe</td>\n",
       "      <td>3.185704e+08</td>\n",
       "    </tr>\n",
       "    <tr>\n",
       "      <th>3</th>\n",
       "      <td>North America</td>\n",
       "      <td>1.596963e+08</td>\n",
       "    </tr>\n",
       "  </tbody>\n",
       "</table>\n",
       "</div>"
      ],
      "text/plain": [
       "       Continent          Debt\n",
       "4  South America  3.588607e+10\n",
       "1           Asia  3.640828e+09\n",
       "5    Unspecified  2.165012e+09\n",
       "0         Africa  1.552919e+09\n",
       "2         Europe  3.185704e+08\n",
       "3  North America  1.596963e+08"
      ]
     },
     "execution_count": 640,
     "metadata": {},
     "output_type": "execute_result"
    }
   ],
   "source": [
    "OPC = (debt[debt['Indicator_code'].isin(['DT.AMT.PROP.CD', 'DT.DIS.PROP.CD', 'DT.INT.PROP.CD'])]\n",
    "              .groupby(['Continent'])['Debt'].sum().reset_index().sort_values(by='Debt', ascending=False))\n",
    "OPC.head(10)"
   ]
  },
  {
   "cell_type": "markdown",
   "id": "33d47eb7-a8f1-4f44-98db-e9ba0e1282ec",
   "metadata": {},
   "source": [
    "By a large margin, `South America` owes the most debt amount to Other Private Creditors at `35 billion`. In second place is `Asia` at `3.6 billion`. `North America` owes the least at `159 million`"
   ]
  },
  {
   "cell_type": "markdown",
   "id": "0b6437d4-37a3-4485-94f4-df400a25e283",
   "metadata": {},
   "source": [
    "### By Country"
   ]
  },
  {
   "cell_type": "code",
   "execution_count": 644,
   "id": "4558ca6f-0fd5-415b-93ac-ad49cc6fbdcd",
   "metadata": {},
   "outputs": [
    {
     "data": {
      "text/html": [
       "<div>\n",
       "<style scoped>\n",
       "    .dataframe tbody tr th:only-of-type {\n",
       "        vertical-align: middle;\n",
       "    }\n",
       "\n",
       "    .dataframe tbody tr th {\n",
       "        vertical-align: top;\n",
       "    }\n",
       "\n",
       "    .dataframe thead th {\n",
       "        text-align: right;\n",
       "    }\n",
       "</style>\n",
       "<table border=\"1\" class=\"dataframe\">\n",
       "  <thead>\n",
       "    <tr style=\"text-align: right;\">\n",
       "      <th></th>\n",
       "      <th>Country</th>\n",
       "      <th>Continent</th>\n",
       "      <th>Debt</th>\n",
       "    </tr>\n",
       "  </thead>\n",
       "  <tbody>\n",
       "    <tr>\n",
       "      <th>8</th>\n",
       "      <td>Brazil</td>\n",
       "      <td>South America</td>\n",
       "      <td>3.573242e+10</td>\n",
       "    </tr>\n",
       "    <tr>\n",
       "      <th>26</th>\n",
       "      <td>Indonesia</td>\n",
       "      <td>Asia</td>\n",
       "      <td>1.753962e+09</td>\n",
       "    </tr>\n",
       "    <tr>\n",
       "      <th>12</th>\n",
       "      <td>China</td>\n",
       "      <td>Asia</td>\n",
       "      <td>1.286899e+09</td>\n",
       "    </tr>\n",
       "    <tr>\n",
       "      <th>31</th>\n",
       "      <td>Least developed countries: UN classification</td>\n",
       "      <td>Unspecified</td>\n",
       "      <td>1.224848e+09</td>\n",
       "    </tr>\n",
       "    <tr>\n",
       "      <th>24</th>\n",
       "      <td>IDA</td>\n",
       "      <td>Unspecified</td>\n",
       "      <td>9.401638e+08</td>\n",
       "    </tr>\n",
       "  </tbody>\n",
       "</table>\n",
       "</div>"
      ],
      "text/plain": [
       "                                         Country      Continent          Debt\n",
       "8                                         Brazil  South America  3.573242e+10\n",
       "26                                     Indonesia           Asia  1.753962e+09\n",
       "12                                         China           Asia  1.286899e+09\n",
       "31  Least developed countries: UN classification    Unspecified  1.224848e+09\n",
       "24                                           IDA    Unspecified  9.401638e+08"
      ]
     },
     "execution_count": 644,
     "metadata": {},
     "output_type": "execute_result"
    }
   ],
   "source": [
    "OPC = (debt[debt['Indicator_code'].isin(['DT.AMT.PROP.CD', 'DT.DIS.PROP.CD', 'DT.INT.PROP.CD'])]\n",
    "              .groupby(['Country', 'Continent'])['Debt'].sum().reset_index().sort_values(by='Debt', ascending=False))\n",
    "OPC.head(5)"
   ]
  },
  {
   "cell_type": "markdown",
   "id": "a51cb775-97e6-4c9f-8a51-1737421bf49a",
   "metadata": {},
   "source": [
    "`Brazil` owes the most at `35 billion`, `Indonesia` owes the second most with `175 million`"
   ]
  },
  {
   "cell_type": "code",
   "execution_count": 646,
   "id": "9b212932-a534-4c61-84fb-8f288b44a484",
   "metadata": {},
   "outputs": [
    {
     "data": {
      "text/html": [
       "<div>\n",
       "<style scoped>\n",
       "    .dataframe tbody tr th:only-of-type {\n",
       "        vertical-align: middle;\n",
       "    }\n",
       "\n",
       "    .dataframe tbody tr th {\n",
       "        vertical-align: top;\n",
       "    }\n",
       "\n",
       "    .dataframe thead th {\n",
       "        text-align: right;\n",
       "    }\n",
       "</style>\n",
       "<table border=\"1\" class=\"dataframe\">\n",
       "  <thead>\n",
       "    <tr style=\"text-align: right;\">\n",
       "      <th></th>\n",
       "      <th>Country</th>\n",
       "      <th>Continent</th>\n",
       "      <th>Debt</th>\n",
       "    </tr>\n",
       "  </thead>\n",
       "  <tbody>\n",
       "    <tr>\n",
       "      <th>1</th>\n",
       "      <td>Algeria</td>\n",
       "      <td>Africa</td>\n",
       "      <td>23129.8</td>\n",
       "    </tr>\n",
       "    <tr>\n",
       "      <th>49</th>\n",
       "      <td>Tanzania</td>\n",
       "      <td>Africa</td>\n",
       "      <td>45783.8</td>\n",
       "    </tr>\n",
       "    <tr>\n",
       "      <th>33</th>\n",
       "      <td>Macedonia</td>\n",
       "      <td>Europe</td>\n",
       "      <td>66332.2</td>\n",
       "    </tr>\n",
       "    <tr>\n",
       "      <th>23</th>\n",
       "      <td>Honduras</td>\n",
       "      <td>North America</td>\n",
       "      <td>73052.6</td>\n",
       "    </tr>\n",
       "    <tr>\n",
       "      <th>19</th>\n",
       "      <td>Eritrea</td>\n",
       "      <td>Africa</td>\n",
       "      <td>170300.6</td>\n",
       "    </tr>\n",
       "  </tbody>\n",
       "</table>\n",
       "</div>"
      ],
      "text/plain": [
       "      Country      Continent      Debt\n",
       "1     Algeria         Africa   23129.8\n",
       "49   Tanzania         Africa   45783.8\n",
       "33  Macedonia         Europe   66332.2\n",
       "23   Honduras  North America   73052.6\n",
       "19    Eritrea         Africa  170300.6"
      ]
     },
     "execution_count": 646,
     "metadata": {},
     "output_type": "execute_result"
    }
   ],
   "source": [
    "OPC = (debt[debt['Indicator_code'].isin(['DT.AMT.PROP.CD', 'DT.DIS.PROP.CD', 'DT.INT.PROP.CD'])]\n",
    "              .groupby(['Country', 'Continent'])['Debt'].sum().reset_index().sort_values(by='Debt', ascending=True))\n",
    "OPC.head(5)"
   ]
  },
  {
   "cell_type": "markdown",
   "id": "ecb9d1ba-131d-4f62-a350-91eae1dac6a4",
   "metadata": {},
   "source": [
    "`Algeria` owes the most with `23,000`. `Tanzania`, `Macedonia`, `Honduras` and `Eritea` make up the bottom 5, with `Eritea` owing `170,000`."
   ]
  },
  {
   "cell_type": "markdown",
   "id": "04c9b129-2ecb-4673-9702-7adc8b59a446",
   "metadata": {},
   "source": [
    "### Principal Repayment"
   ]
  },
  {
   "cell_type": "code",
   "execution_count": 717,
   "id": "42515267-0aed-44ed-89aa-1b4131729c2b",
   "metadata": {},
   "outputs": [
    {
     "name": "stdout",
     "output_type": "stream",
     "text": [
      "1139938034157.1\n"
     ]
    }
   ],
   "source": [
    "PRP = (debt[debt['Indicator_code'].isin(['DT.AMT.DLXF.CD', 'DT.AMT.DPNG.CD'])]['Debt'].sum())\n",
    "print(PRP)"
   ]
  },
  {
   "cell_type": "markdown",
   "id": "446658c1-42a7-4b51-b7c6-7cce6dca9d79",
   "metadata": {},
   "source": [
    "The total amount of debt owed due to Principal Repayment is `1 trillion`"
   ]
  },
  {
   "cell_type": "markdown",
   "id": "8ccbe8c9-d165-45b6-a72b-8d47b2d01340",
   "metadata": {},
   "source": [
    "### By Continent"
   ]
  },
  {
   "cell_type": "code",
   "execution_count": 653,
   "id": "2309b96f-8ed1-4f40-a7e6-6c4fb56a85f8",
   "metadata": {},
   "outputs": [
    {
     "data": {
      "text/html": [
       "<div>\n",
       "<style scoped>\n",
       "    .dataframe tbody tr th:only-of-type {\n",
       "        vertical-align: middle;\n",
       "    }\n",
       "\n",
       "    .dataframe tbody tr th {\n",
       "        vertical-align: top;\n",
       "    }\n",
       "\n",
       "    .dataframe thead th {\n",
       "        text-align: right;\n",
       "    }\n",
       "</style>\n",
       "<table border=\"1\" class=\"dataframe\">\n",
       "  <thead>\n",
       "    <tr style=\"text-align: right;\">\n",
       "      <th></th>\n",
       "      <th>Continent</th>\n",
       "      <th>Debt</th>\n",
       "    </tr>\n",
       "  </thead>\n",
       "  <tbody>\n",
       "    <tr>\n",
       "      <th>1</th>\n",
       "      <td>Asia</td>\n",
       "      <td>5.884953e+11</td>\n",
       "    </tr>\n",
       "    <tr>\n",
       "      <th>5</th>\n",
       "      <td>South America</td>\n",
       "      <td>1.854162e+11</td>\n",
       "    </tr>\n",
       "    <tr>\n",
       "      <th>2</th>\n",
       "      <td>Europe</td>\n",
       "      <td>1.711666e+11</td>\n",
       "    </tr>\n",
       "    <tr>\n",
       "      <th>0</th>\n",
       "      <td>Africa</td>\n",
       "      <td>8.397212e+10</td>\n",
       "    </tr>\n",
       "    <tr>\n",
       "      <th>6</th>\n",
       "      <td>Unspecified</td>\n",
       "      <td>5.580122e+10</td>\n",
       "    </tr>\n",
       "    <tr>\n",
       "      <th>3</th>\n",
       "      <td>North America</td>\n",
       "      <td>4.936843e+10</td>\n",
       "    </tr>\n",
       "    <tr>\n",
       "      <th>4</th>\n",
       "      <td>Oceania</td>\n",
       "      <td>5.718231e+09</td>\n",
       "    </tr>\n",
       "  </tbody>\n",
       "</table>\n",
       "</div>"
      ],
      "text/plain": [
       "       Continent          Debt\n",
       "1           Asia  5.884953e+11\n",
       "5  South America  1.854162e+11\n",
       "2         Europe  1.711666e+11\n",
       "0         Africa  8.397212e+10\n",
       "6    Unspecified  5.580122e+10\n",
       "3  North America  4.936843e+10\n",
       "4        Oceania  5.718231e+09"
      ]
     },
     "execution_count": 653,
     "metadata": {},
     "output_type": "execute_result"
    }
   ],
   "source": [
    "PRP = (debt[debt['Indicator_code'].isin(['DT.AMT.DLXF.CD', 'DT.AMT.DPNG.CD'])]\n",
    "              .groupby(['Continent'])['Debt'].sum().reset_index().sort_values(by='Debt', ascending=False))\n",
    "PRP.head(10)"
   ]
  },
  {
   "cell_type": "markdown",
   "id": "4301799d-3ea4-4a9f-b1cd-ee570c1687b5",
   "metadata": {},
   "source": [
    "`Asia` owes the most amount due to Amortization, standing at `588 billion`, `Oceania` owes the least at `5.7 billion`"
   ]
  },
  {
   "cell_type": "markdown",
   "id": "832ed873-e9f8-4d95-b275-7cfd9992f4f2",
   "metadata": {},
   "source": [
    "### By Country"
   ]
  },
  {
   "cell_type": "code",
   "execution_count": 660,
   "id": "a14282ac-b260-47e2-bfb9-ce21976adcd9",
   "metadata": {},
   "outputs": [
    {
     "data": {
      "text/html": [
       "<div>\n",
       "<style scoped>\n",
       "    .dataframe tbody tr th:only-of-type {\n",
       "        vertical-align: middle;\n",
       "    }\n",
       "\n",
       "    .dataframe tbody tr th {\n",
       "        vertical-align: top;\n",
       "    }\n",
       "\n",
       "    .dataframe thead th {\n",
       "        text-align: right;\n",
       "    }\n",
       "</style>\n",
       "<table border=\"1\" class=\"dataframe\">\n",
       "  <thead>\n",
       "    <tr style=\"text-align: right;\">\n",
       "      <th></th>\n",
       "      <th>Country</th>\n",
       "      <th>Continent</th>\n",
       "      <th>Debt</th>\n",
       "    </tr>\n",
       "  </thead>\n",
       "  <tbody>\n",
       "    <tr>\n",
       "      <th>23</th>\n",
       "      <td>China</td>\n",
       "      <td>Asia</td>\n",
       "      <td>1.686116e+11</td>\n",
       "    </tr>\n",
       "    <tr>\n",
       "      <th>14</th>\n",
       "      <td>Brazil</td>\n",
       "      <td>South America</td>\n",
       "      <td>1.318733e+11</td>\n",
       "    </tr>\n",
       "    <tr>\n",
       "      <th>90</th>\n",
       "      <td>Russian Federation</td>\n",
       "      <td>Europe</td>\n",
       "      <td>1.093899e+11</td>\n",
       "    </tr>\n",
       "    <tr>\n",
       "      <th>113</th>\n",
       "      <td>Turkey</td>\n",
       "      <td>Asia</td>\n",
       "      <td>9.147123e+10</td>\n",
       "    </tr>\n",
       "    <tr>\n",
       "      <th>100</th>\n",
       "      <td>South Asia</td>\n",
       "      <td>Asia</td>\n",
       "      <td>7.312715e+10</td>\n",
       "    </tr>\n",
       "  </tbody>\n",
       "</table>\n",
       "</div>"
      ],
      "text/plain": [
       "                Country      Continent          Debt\n",
       "23                China           Asia  1.686116e+11\n",
       "14               Brazil  South America  1.318733e+11\n",
       "90   Russian Federation         Europe  1.093899e+11\n",
       "113              Turkey           Asia  9.147123e+10\n",
       "100          South Asia           Asia  7.312715e+10"
      ]
     },
     "execution_count": 660,
     "metadata": {},
     "output_type": "execute_result"
    }
   ],
   "source": [
    "PRP = (debt[debt['Indicator_code'].isin(['DT.AMT.DLXF.CD', 'DT.AMT.DPNG.CD'])]\n",
    "              .groupby(['Country', 'Continent'])['Debt'].sum().reset_index().sort_values(by='Debt', ascending=False))\n",
    "PRP.head(5)"
   ]
  },
  {
   "cell_type": "markdown",
   "id": "a2ae4496-346b-4dee-b8ae-c2264dc35d4e",
   "metadata": {},
   "source": [
    "`China` owes the most amount with an `168 billion` debt due to amortization, followed by `Brazil` at `131 billion`"
   ]
  },
  {
   "cell_type": "code",
   "execution_count": 658,
   "id": "a56d7008-3b4e-4a27-8fff-0cb08498844b",
   "metadata": {},
   "outputs": [
    {
     "data": {
      "text/html": [
       "<div>\n",
       "<style scoped>\n",
       "    .dataframe tbody tr th:only-of-type {\n",
       "        vertical-align: middle;\n",
       "    }\n",
       "\n",
       "    .dataframe tbody tr th {\n",
       "        vertical-align: top;\n",
       "    }\n",
       "\n",
       "    .dataframe thead th {\n",
       "        text-align: right;\n",
       "    }\n",
       "</style>\n",
       "<table border=\"1\" class=\"dataframe\">\n",
       "  <thead>\n",
       "    <tr style=\"text-align: right;\">\n",
       "      <th></th>\n",
       "      <th>Country</th>\n",
       "      <th>Continent</th>\n",
       "      <th>Debt</th>\n",
       "    </tr>\n",
       "  </thead>\n",
       "  <tbody>\n",
       "    <tr>\n",
       "      <th>109</th>\n",
       "      <td>Timor-Leste</td>\n",
       "      <td>Asia</td>\n",
       "      <td>825000.0</td>\n",
       "    </tr>\n",
       "    <tr>\n",
       "      <th>93</th>\n",
       "      <td>Sao Tome and Principe</td>\n",
       "      <td>Africa</td>\n",
       "      <td>2941396.3</td>\n",
       "    </tr>\n",
       "    <tr>\n",
       "      <th>25</th>\n",
       "      <td>Comoros</td>\n",
       "      <td>Africa</td>\n",
       "      <td>4792269.1</td>\n",
       "    </tr>\n",
       "    <tr>\n",
       "      <th>47</th>\n",
       "      <td>Guinea-Bissau</td>\n",
       "      <td>Africa</td>\n",
       "      <td>6783629.1</td>\n",
       "    </tr>\n",
       "    <tr>\n",
       "      <th>111</th>\n",
       "      <td>Tonga</td>\n",
       "      <td>Oceania</td>\n",
       "      <td>10369910.6</td>\n",
       "    </tr>\n",
       "  </tbody>\n",
       "</table>\n",
       "</div>"
      ],
      "text/plain": [
       "                   Country Continent        Debt\n",
       "109            Timor-Leste      Asia    825000.0\n",
       "93   Sao Tome and Principe    Africa   2941396.3\n",
       "25                 Comoros    Africa   4792269.1\n",
       "47           Guinea-Bissau    Africa   6783629.1\n",
       "111                  Tonga   Oceania  10369910.6"
      ]
     },
     "execution_count": 658,
     "metadata": {},
     "output_type": "execute_result"
    }
   ],
   "source": [
    "PRP = (debt[debt['Indicator_code'].isin(['DT.AMT.DLXF.CD', 'DT.AMT.DPNG.CD'])]\n",
    "              .groupby(['Country', 'Continent'])['Debt'].sum().reset_index().sort_values(by='Debt', ascending=True))\n",
    "PRP.head(5)"
   ]
  },
  {
   "cell_type": "markdown",
   "id": "012c382a-b9eb-4642-b7c4-8ce27dc5072b",
   "metadata": {},
   "source": [
    "`Timor-Leste` owes the least amount at `825,000`"
   ]
  },
  {
   "cell_type": "markdown",
   "id": "32f2a235-4be6-4d05-8cf6-149bf8f69797",
   "metadata": {},
   "source": [
    "# INSIGHTS\n",
    "- `Nigeria’s` burden comes largely from repaying older loans, not new disbursements.\n",
    "- `China` is the world's biggest debtor with `285.8 billion`, largely due to principal repayments on long-term foreign loans `96 billion` and private non-guaranteed debt `72 billion`, `Brazil` is a close second with `280.6 billion`.\n",
    "- `China` and `Brazil's` dominance in the debt figures reflects large-scale international borrowing, possibly linked to massive infrastructure projects and energy investments.\n",
    "- Other major debtors include `South Asia region`, `UN’s Least Developed Countries`, and `Russia`.\n",
    "- `Sao Tome and Principe` has the lowest total debt: `44.8 million`.\n",
    "- Other low-debt countries include `Tonga`, `Comoros`, `Timor-Leste`. These countries are generally small economies with limited borrowing capacity or better debt discipline.\n",
    "- `Asia` dominates the global external debt while `Oceania` does not borrow as much as others.\n",
    "- `South America` has the highest average debt per country, approximately `2.4 billion`.\n",
    "- `Africa` has a lower average, `508 million`, despite being 2nd in total showing high country count but smaller individual loans.\n",
    "- `South American` countries owe the most money per country with `240 million`"
   ]
  },
  {
   "cell_type": "markdown",
   "id": "94bac818-2f25-40a3-98d7-a96322bb9f41",
   "metadata": {},
   "source": [
    "# STRATEGIC INSIGHTS\n",
    "- `China` is structurally indebted across nearly every loan category. This implies a deliberate economic strategy built on external financing.\n",
    "- `South America`, while not highest in total, has the most per-country debt which suggests deeper borrowing per country than other continents.\n",
    "- `Africa` appears heavily exposed to official and bilateral debt, which may tie it closely to conditional financing programs.\n",
    "- `Oceania's` consistent position at the bottom across every debt type signals either strong fiscal discipline or limited access to capital markets.\n",
    "- Multilateral loans (World Bank, IMF) play a strong stabilizing role, especially in `Africa` and `Asia`."
   ]
  }
 ],
 "metadata": {
  "kernelspec": {
   "display_name": "Python [conda env:base] *",
   "language": "python",
   "name": "conda-base-py"
  },
  "language_info": {
   "codemirror_mode": {
    "name": "ipython",
    "version": 3
   },
   "file_extension": ".py",
   "mimetype": "text/x-python",
   "name": "python",
   "nbconvert_exporter": "python",
   "pygments_lexer": "ipython3",
   "version": "3.12.3"
  }
 },
 "nbformat": 4,
 "nbformat_minor": 5
}
